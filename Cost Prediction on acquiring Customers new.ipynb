{
 "cells": [
  {
   "cell_type": "markdown",
   "id": "d236e3c3",
   "metadata": {},
   "source": [
    "# Importing the necessary libraries"
   ]
  },
  {
   "cell_type": "code",
   "execution_count": 1,
   "id": "c240d03c",
   "metadata": {},
   "outputs": [],
   "source": [
    "#PREDICTING COST ON MEDIA CAMPAIGNS IN FOOD MART OF USA"
   ]
  },
  {
   "cell_type": "code",
   "execution_count": 2,
   "id": "68a51fe1",
   "metadata": {},
   "outputs": [],
   "source": [
    "import numpy as np\n",
    "import pandas as pd\n",
    "import matplotlib.pyplot as plt\n",
    "import seaborn as sns\n",
    "from sklearn.preprocessing import LabelEncoder\n",
    "from sklearn.preprocessing import StandardScaler\n",
    "from sklearn.decomposition import PCA\n",
    "from sklearn.model_selection import train_test_split\n",
    "from sklearn.linear_model import LinearRegression\n",
    "from sklearn.ensemble import RandomForestRegressor\n",
    "from sklearn.ensemble import GradientBoostingRegressor\n",
    "from sklearn.tree import DecisionTreeRegressor\n",
    "from sklearn.metrics import r2_score, mean_squared_error,mean_absolute_error\n",
    "from sklearn.model_selection import cross_val_score\n",
    "\n"
   ]
  },
  {
   "cell_type": "markdown",
   "id": "139e72b8",
   "metadata": {},
   "source": [
    "# Importing the dataset"
   ]
  },
  {
   "cell_type": "code",
   "execution_count": 3,
   "id": "818d7f68",
   "metadata": {},
   "outputs": [],
   "source": [
    "df =pd.read_csv('media prediction and its cost.csv')\n"
   ]
  },
  {
   "cell_type": "code",
   "execution_count": 4,
   "id": "a00898e1",
   "metadata": {
    "scrolled": false
   },
   "outputs": [
    {
     "name": "stdout",
     "output_type": "stream",
     "text": [
      "<class 'pandas.core.frame.DataFrame'>\n",
      "RangeIndex: 60428 entries, 0 to 60427\n",
      "Data columns (total 40 columns):\n",
      " #   Column                      Non-Null Count  Dtype  \n",
      "---  ------                      --------------  -----  \n",
      " 0   food_category               60428 non-null  object \n",
      " 1   food_department             60428 non-null  object \n",
      " 2   food_family                 60428 non-null  object \n",
      " 3   store_sales(in millions)    60428 non-null  float64\n",
      " 4   store_cost(in millions)     60428 non-null  float64\n",
      " 5   unit_sales(in millions)     60428 non-null  int64  \n",
      " 6   promotion_name              60428 non-null  object \n",
      " 7   sales_country               60428 non-null  object \n",
      " 8   marital_status              60428 non-null  object \n",
      " 9   gender                      60428 non-null  object \n",
      " 10  total_children              60428 non-null  int64  \n",
      " 11  education                   60428 non-null  object \n",
      " 12  member_card                 60428 non-null  object \n",
      " 13  occupation                  60428 non-null  object \n",
      " 14  houseowner                  60428 non-null  object \n",
      " 15  avg_cars_at home(approx)    60428 non-null  int64  \n",
      " 16  avg. yearly_income          60428 non-null  object \n",
      " 17  num_children_at_home        60428 non-null  int64  \n",
      " 18  avg_cars_at home(approx).1  60428 non-null  int64  \n",
      " 19  brand_name                  60428 non-null  object \n",
      " 20  SRP                         60428 non-null  float64\n",
      " 21  gross_weight                60428 non-null  float64\n",
      " 22  net_weight                  60428 non-null  float64\n",
      " 23  recyclable_package          60428 non-null  int64  \n",
      " 24  low_fat                     60428 non-null  int64  \n",
      " 25  units_per_case              60428 non-null  int64  \n",
      " 26  store_type                  60428 non-null  object \n",
      " 27  store_city                  60428 non-null  object \n",
      " 28  store_state                 60428 non-null  object \n",
      " 29  store_sqft                  60428 non-null  int64  \n",
      " 30  grocery_sqft                60428 non-null  int64  \n",
      " 31  frozen_sqft                 60428 non-null  int64  \n",
      " 32  meat_sqft                   60428 non-null  int64  \n",
      " 33  coffee_bar                  60428 non-null  int64  \n",
      " 34  video_store                 60428 non-null  int64  \n",
      " 35  salad_bar                   60428 non-null  int64  \n",
      " 36  prepared_food               60428 non-null  int64  \n",
      " 37  florist                     60428 non-null  int64  \n",
      " 38  media_type                  60428 non-null  object \n",
      " 39  cost                        60428 non-null  float64\n",
      "dtypes: float64(6), int64(17), object(17)\n",
      "memory usage: 18.4+ MB\n"
     ]
    }
   ],
   "source": [
    "df.info()\n"
   ]
  },
  {
   "cell_type": "code",
   "execution_count": 5,
   "id": "b1785e80",
   "metadata": {},
   "outputs": [
    {
     "data": {
      "text/html": [
       "<div>\n",
       "<style scoped>\n",
       "    .dataframe tbody tr th:only-of-type {\n",
       "        vertical-align: middle;\n",
       "    }\n",
       "\n",
       "    .dataframe tbody tr th {\n",
       "        vertical-align: top;\n",
       "    }\n",
       "\n",
       "    .dataframe thead th {\n",
       "        text-align: right;\n",
       "    }\n",
       "</style>\n",
       "<table border=\"1\" class=\"dataframe\">\n",
       "  <thead>\n",
       "    <tr style=\"text-align: right;\">\n",
       "      <th></th>\n",
       "      <th>store_sales(in millions)</th>\n",
       "      <th>store_cost(in millions)</th>\n",
       "      <th>unit_sales(in millions)</th>\n",
       "      <th>total_children</th>\n",
       "      <th>avg_cars_at home(approx)</th>\n",
       "      <th>num_children_at_home</th>\n",
       "      <th>avg_cars_at home(approx).1</th>\n",
       "      <th>SRP</th>\n",
       "      <th>gross_weight</th>\n",
       "      <th>net_weight</th>\n",
       "      <th>...</th>\n",
       "      <th>store_sqft</th>\n",
       "      <th>grocery_sqft</th>\n",
       "      <th>frozen_sqft</th>\n",
       "      <th>meat_sqft</th>\n",
       "      <th>coffee_bar</th>\n",
       "      <th>video_store</th>\n",
       "      <th>salad_bar</th>\n",
       "      <th>prepared_food</th>\n",
       "      <th>florist</th>\n",
       "      <th>cost</th>\n",
       "    </tr>\n",
       "  </thead>\n",
       "  <tbody>\n",
       "    <tr>\n",
       "      <th>count</th>\n",
       "      <td>60428.000000</td>\n",
       "      <td>60428.000000</td>\n",
       "      <td>60428.000000</td>\n",
       "      <td>60428.000000</td>\n",
       "      <td>60428.000000</td>\n",
       "      <td>60428.000000</td>\n",
       "      <td>60428.000000</td>\n",
       "      <td>60428.000000</td>\n",
       "      <td>60428.000000</td>\n",
       "      <td>60428.000000</td>\n",
       "      <td>...</td>\n",
       "      <td>60428.000000</td>\n",
       "      <td>60428.000000</td>\n",
       "      <td>60428.000000</td>\n",
       "      <td>60428.000000</td>\n",
       "      <td>60428.000000</td>\n",
       "      <td>60428.000000</td>\n",
       "      <td>60428.000000</td>\n",
       "      <td>60428.000000</td>\n",
       "      <td>60428.000000</td>\n",
       "      <td>60428.000000</td>\n",
       "    </tr>\n",
       "    <tr>\n",
       "      <th>mean</th>\n",
       "      <td>6.541031</td>\n",
       "      <td>2.619460</td>\n",
       "      <td>3.093169</td>\n",
       "      <td>2.533875</td>\n",
       "      <td>2.200271</td>\n",
       "      <td>0.829351</td>\n",
       "      <td>2.200271</td>\n",
       "      <td>2.115258</td>\n",
       "      <td>13.806433</td>\n",
       "      <td>11.796289</td>\n",
       "      <td>...</td>\n",
       "      <td>27988.477494</td>\n",
       "      <td>19133.799696</td>\n",
       "      <td>5312.852552</td>\n",
       "      <td>3541.846280</td>\n",
       "      <td>0.612646</td>\n",
       "      <td>0.354157</td>\n",
       "      <td>0.587956</td>\n",
       "      <td>0.587956</td>\n",
       "      <td>0.562603</td>\n",
       "      <td>99.262366</td>\n",
       "    </tr>\n",
       "    <tr>\n",
       "      <th>std</th>\n",
       "      <td>3.463047</td>\n",
       "      <td>1.453009</td>\n",
       "      <td>0.827677</td>\n",
       "      <td>1.490165</td>\n",
       "      <td>1.109644</td>\n",
       "      <td>1.303424</td>\n",
       "      <td>1.109644</td>\n",
       "      <td>0.932829</td>\n",
       "      <td>4.622693</td>\n",
       "      <td>4.682986</td>\n",
       "      <td>...</td>\n",
       "      <td>5701.022090</td>\n",
       "      <td>3987.395735</td>\n",
       "      <td>1575.907263</td>\n",
       "      <td>1050.471635</td>\n",
       "      <td>0.487150</td>\n",
       "      <td>0.478261</td>\n",
       "      <td>0.492207</td>\n",
       "      <td>0.492207</td>\n",
       "      <td>0.496069</td>\n",
       "      <td>30.011257</td>\n",
       "    </tr>\n",
       "    <tr>\n",
       "      <th>min</th>\n",
       "      <td>0.510000</td>\n",
       "      <td>0.163200</td>\n",
       "      <td>1.000000</td>\n",
       "      <td>0.000000</td>\n",
       "      <td>0.000000</td>\n",
       "      <td>0.000000</td>\n",
       "      <td>0.000000</td>\n",
       "      <td>0.500000</td>\n",
       "      <td>6.000000</td>\n",
       "      <td>3.050000</td>\n",
       "      <td>...</td>\n",
       "      <td>20319.000000</td>\n",
       "      <td>13305.000000</td>\n",
       "      <td>2452.000000</td>\n",
       "      <td>1635.000000</td>\n",
       "      <td>0.000000</td>\n",
       "      <td>0.000000</td>\n",
       "      <td>0.000000</td>\n",
       "      <td>0.000000</td>\n",
       "      <td>0.000000</td>\n",
       "      <td>50.790000</td>\n",
       "    </tr>\n",
       "    <tr>\n",
       "      <th>25%</th>\n",
       "      <td>3.810000</td>\n",
       "      <td>1.500000</td>\n",
       "      <td>3.000000</td>\n",
       "      <td>1.000000</td>\n",
       "      <td>1.000000</td>\n",
       "      <td>0.000000</td>\n",
       "      <td>1.000000</td>\n",
       "      <td>1.410000</td>\n",
       "      <td>9.700000</td>\n",
       "      <td>7.710000</td>\n",
       "      <td>...</td>\n",
       "      <td>23593.000000</td>\n",
       "      <td>16232.000000</td>\n",
       "      <td>4746.000000</td>\n",
       "      <td>3164.000000</td>\n",
       "      <td>0.000000</td>\n",
       "      <td>0.000000</td>\n",
       "      <td>0.000000</td>\n",
       "      <td>0.000000</td>\n",
       "      <td>0.000000</td>\n",
       "      <td>69.650000</td>\n",
       "    </tr>\n",
       "    <tr>\n",
       "      <th>50%</th>\n",
       "      <td>5.940000</td>\n",
       "      <td>2.385600</td>\n",
       "      <td>3.000000</td>\n",
       "      <td>3.000000</td>\n",
       "      <td>2.000000</td>\n",
       "      <td>0.000000</td>\n",
       "      <td>2.000000</td>\n",
       "      <td>2.130000</td>\n",
       "      <td>13.600000</td>\n",
       "      <td>11.600000</td>\n",
       "      <td>...</td>\n",
       "      <td>27694.000000</td>\n",
       "      <td>18670.000000</td>\n",
       "      <td>5062.000000</td>\n",
       "      <td>3375.000000</td>\n",
       "      <td>1.000000</td>\n",
       "      <td>0.000000</td>\n",
       "      <td>1.000000</td>\n",
       "      <td>1.000000</td>\n",
       "      <td>1.000000</td>\n",
       "      <td>98.520000</td>\n",
       "    </tr>\n",
       "    <tr>\n",
       "      <th>75%</th>\n",
       "      <td>8.670000</td>\n",
       "      <td>3.484025</td>\n",
       "      <td>4.000000</td>\n",
       "      <td>4.000000</td>\n",
       "      <td>3.000000</td>\n",
       "      <td>1.000000</td>\n",
       "      <td>3.000000</td>\n",
       "      <td>2.790000</td>\n",
       "      <td>17.700000</td>\n",
       "      <td>16.000000</td>\n",
       "      <td>...</td>\n",
       "      <td>30797.000000</td>\n",
       "      <td>22123.000000</td>\n",
       "      <td>5751.000000</td>\n",
       "      <td>3834.000000</td>\n",
       "      <td>1.000000</td>\n",
       "      <td>1.000000</td>\n",
       "      <td>1.000000</td>\n",
       "      <td>1.000000</td>\n",
       "      <td>1.000000</td>\n",
       "      <td>126.620000</td>\n",
       "    </tr>\n",
       "    <tr>\n",
       "      <th>max</th>\n",
       "      <td>22.920000</td>\n",
       "      <td>9.726500</td>\n",
       "      <td>6.000000</td>\n",
       "      <td>5.000000</td>\n",
       "      <td>4.000000</td>\n",
       "      <td>5.000000</td>\n",
       "      <td>4.000000</td>\n",
       "      <td>3.980000</td>\n",
       "      <td>21.900000</td>\n",
       "      <td>20.800000</td>\n",
       "      <td>...</td>\n",
       "      <td>39696.000000</td>\n",
       "      <td>30351.000000</td>\n",
       "      <td>9184.000000</td>\n",
       "      <td>6122.000000</td>\n",
       "      <td>1.000000</td>\n",
       "      <td>1.000000</td>\n",
       "      <td>1.000000</td>\n",
       "      <td>1.000000</td>\n",
       "      <td>1.000000</td>\n",
       "      <td>149.750000</td>\n",
       "    </tr>\n",
       "  </tbody>\n",
       "</table>\n",
       "<p>8 rows × 23 columns</p>\n",
       "</div>"
      ],
      "text/plain": [
       "       store_sales(in millions)  store_cost(in millions)  \\\n",
       "count              60428.000000             60428.000000   \n",
       "mean                   6.541031                 2.619460   \n",
       "std                    3.463047                 1.453009   \n",
       "min                    0.510000                 0.163200   \n",
       "25%                    3.810000                 1.500000   \n",
       "50%                    5.940000                 2.385600   \n",
       "75%                    8.670000                 3.484025   \n",
       "max                   22.920000                 9.726500   \n",
       "\n",
       "       unit_sales(in millions)  total_children  avg_cars_at home(approx)  \\\n",
       "count             60428.000000    60428.000000              60428.000000   \n",
       "mean                  3.093169        2.533875                  2.200271   \n",
       "std                   0.827677        1.490165                  1.109644   \n",
       "min                   1.000000        0.000000                  0.000000   \n",
       "25%                   3.000000        1.000000                  1.000000   \n",
       "50%                   3.000000        3.000000                  2.000000   \n",
       "75%                   4.000000        4.000000                  3.000000   \n",
       "max                   6.000000        5.000000                  4.000000   \n",
       "\n",
       "       num_children_at_home  avg_cars_at home(approx).1           SRP  \\\n",
       "count          60428.000000                60428.000000  60428.000000   \n",
       "mean               0.829351                    2.200271      2.115258   \n",
       "std                1.303424                    1.109644      0.932829   \n",
       "min                0.000000                    0.000000      0.500000   \n",
       "25%                0.000000                    1.000000      1.410000   \n",
       "50%                0.000000                    2.000000      2.130000   \n",
       "75%                1.000000                    3.000000      2.790000   \n",
       "max                5.000000                    4.000000      3.980000   \n",
       "\n",
       "       gross_weight    net_weight  ...    store_sqft  grocery_sqft  \\\n",
       "count  60428.000000  60428.000000  ...  60428.000000  60428.000000   \n",
       "mean      13.806433     11.796289  ...  27988.477494  19133.799696   \n",
       "std        4.622693      4.682986  ...   5701.022090   3987.395735   \n",
       "min        6.000000      3.050000  ...  20319.000000  13305.000000   \n",
       "25%        9.700000      7.710000  ...  23593.000000  16232.000000   \n",
       "50%       13.600000     11.600000  ...  27694.000000  18670.000000   \n",
       "75%       17.700000     16.000000  ...  30797.000000  22123.000000   \n",
       "max       21.900000     20.800000  ...  39696.000000  30351.000000   \n",
       "\n",
       "        frozen_sqft     meat_sqft    coffee_bar   video_store     salad_bar  \\\n",
       "count  60428.000000  60428.000000  60428.000000  60428.000000  60428.000000   \n",
       "mean    5312.852552   3541.846280      0.612646      0.354157      0.587956   \n",
       "std     1575.907263   1050.471635      0.487150      0.478261      0.492207   \n",
       "min     2452.000000   1635.000000      0.000000      0.000000      0.000000   \n",
       "25%     4746.000000   3164.000000      0.000000      0.000000      0.000000   \n",
       "50%     5062.000000   3375.000000      1.000000      0.000000      1.000000   \n",
       "75%     5751.000000   3834.000000      1.000000      1.000000      1.000000   \n",
       "max     9184.000000   6122.000000      1.000000      1.000000      1.000000   \n",
       "\n",
       "       prepared_food       florist          cost  \n",
       "count   60428.000000  60428.000000  60428.000000  \n",
       "mean        0.587956      0.562603     99.262366  \n",
       "std         0.492207      0.496069     30.011257  \n",
       "min         0.000000      0.000000     50.790000  \n",
       "25%         0.000000      0.000000     69.650000  \n",
       "50%         1.000000      1.000000     98.520000  \n",
       "75%         1.000000      1.000000    126.620000  \n",
       "max         1.000000      1.000000    149.750000  \n",
       "\n",
       "[8 rows x 23 columns]"
      ]
     },
     "execution_count": 5,
     "metadata": {},
     "output_type": "execute_result"
    }
   ],
   "source": [
    "df.describe()"
   ]
  },
  {
   "cell_type": "code",
   "execution_count": 6,
   "id": "2b008fd8",
   "metadata": {},
   "outputs": [
    {
     "data": {
      "text/plain": [
       "0"
      ]
     },
     "execution_count": 6,
     "metadata": {},
     "output_type": "execute_result"
    }
   ],
   "source": [
    "df.duplicated().sum()"
   ]
  },
  {
   "cell_type": "code",
   "execution_count": 7,
   "id": "7ed4505f",
   "metadata": {},
   "outputs": [
    {
     "data": {
      "text/plain": [
       "food_category                 False\n",
       "food_department               False\n",
       "food_family                   False\n",
       "store_sales(in millions)      False\n",
       "store_cost(in millions)       False\n",
       "unit_sales(in millions)       False\n",
       "promotion_name                False\n",
       "sales_country                 False\n",
       "marital_status                False\n",
       "gender                        False\n",
       "total_children                False\n",
       "education                     False\n",
       "member_card                   False\n",
       "occupation                    False\n",
       "houseowner                    False\n",
       "avg_cars_at home(approx)      False\n",
       "avg. yearly_income            False\n",
       "num_children_at_home          False\n",
       "avg_cars_at home(approx).1    False\n",
       "brand_name                    False\n",
       "SRP                           False\n",
       "gross_weight                  False\n",
       "net_weight                    False\n",
       "recyclable_package            False\n",
       "low_fat                       False\n",
       "units_per_case                False\n",
       "store_type                    False\n",
       "store_city                    False\n",
       "store_state                   False\n",
       "store_sqft                    False\n",
       "grocery_sqft                  False\n",
       "frozen_sqft                   False\n",
       "meat_sqft                     False\n",
       "coffee_bar                    False\n",
       "video_store                   False\n",
       "salad_bar                     False\n",
       "prepared_food                 False\n",
       "florist                       False\n",
       "media_type                    False\n",
       "cost                          False\n",
       "dtype: bool"
      ]
     },
     "execution_count": 7,
     "metadata": {},
     "output_type": "execute_result"
    }
   ],
   "source": [
    "df.isnull().any()"
   ]
  },
  {
   "cell_type": "code",
   "execution_count": 8,
   "id": "212c4bc4",
   "metadata": {
    "scrolled": false
   },
   "outputs": [
    {
     "data": {
      "text/plain": [
       "array(['Bag Stuffers', 'Cash Register Lottery', 'High Roller Savings',\n",
       "       'Double Down Sale', 'Green Light Days', 'Big Time Savings',\n",
       "       'Price Savers', 'Price Slashers', 'Dollar Days', 'Two Day Sale',\n",
       "       'Super Duper Savers', 'Weekend Markdown', 'Dollar Cutters',\n",
       "       'Sales Galore', 'Big Promo', 'Free For All', 'Savings Galore',\n",
       "       'Unbeatable Price Savers', 'Price Smashers', 'Shelf Clearing Days',\n",
       "       'Sales Days', 'Go For It', 'Super Savers', 'Wallet Savers',\n",
       "       'Save-It Sale', 'Price Destroyers', 'Two for One',\n",
       "       'Big Time Discounts', 'Shelf Emptiers', 'Bye Bye Baby',\n",
       "       'One Day Sale', 'Fantastic Discounts', 'Saving Days',\n",
       "       'You Save Days', 'Sale Winners', 'Coupon Spectacular',\n",
       "       'Three for One', 'Price Winners', 'Dimes Off',\n",
       "       'I Cant Believe It Sale', 'Money Savers', 'Green Light Special',\n",
       "       'Price Cutters', 'Tip Top Savings', 'Best Savings',\n",
       "       'Pick Your Savings', 'Double Your Savings', 'Mystery Sale',\n",
       "       'Super Wallet Savers'], dtype=object)"
      ]
     },
     "execution_count": 8,
     "metadata": {},
     "output_type": "execute_result"
    }
   ],
   "source": [
    "df['promotion_name'].unique()\n"
   ]
  },
  {
   "cell_type": "code",
   "execution_count": 9,
   "id": "7b5e3cb9",
   "metadata": {},
   "outputs": [
    {
     "name": "stdout",
     "output_type": "stream",
     "text": [
      "food_category : 45\n",
      "food_department : 22\n",
      "food_family : 3\n",
      "store_sales(in millions) : 1033\n",
      "store_cost(in millions) : 9919\n",
      "unit_sales(in millions) : 6\n",
      "promotion_name : 49\n",
      "sales_country : 3\n",
      "marital_status : 2\n",
      "gender : 2\n",
      "total_children : 6\n",
      "education : 5\n",
      "member_card : 4\n",
      "occupation : 5\n",
      "houseowner : 2\n",
      "avg_cars_at home(approx) : 5\n",
      "avg. yearly_income : 8\n",
      "num_children_at_home : 6\n",
      "avg_cars_at home(approx).1 : 5\n",
      "brand_name : 111\n",
      "SRP : 315\n",
      "gross_weight : 376\n",
      "net_weight : 332\n",
      "recyclable_package : 2\n",
      "low_fat : 2\n",
      "units_per_case : 36\n",
      "store_type : 5\n",
      "store_city : 19\n",
      "store_state : 10\n",
      "store_sqft : 20\n",
      "grocery_sqft : 20\n",
      "frozen_sqft : 20\n",
      "meat_sqft : 20\n",
      "coffee_bar : 2\n",
      "video_store : 2\n",
      "salad_bar : 2\n",
      "prepared_food : 2\n",
      "florist : 2\n",
      "media_type : 13\n",
      "cost : 328\n"
     ]
    }
   ],
   "source": [
    "for col in df.columns:\n",
    "    print(col,\":\",len(df[col].unique()))"
   ]
  },
  {
   "cell_type": "code",
   "execution_count": 10,
   "id": "1d7b62e5",
   "metadata": {},
   "outputs": [],
   "source": [
    "#lets find te top 10 most  frequent categories for the variables food_category "
   ]
  },
  {
   "cell_type": "code",
   "execution_count": 11,
   "id": "e8e2c312",
   "metadata": {},
   "outputs": [
    {
     "data": {
      "text/plain": [
       "Vegetables           7440\n",
       "Snack Foods          6919\n",
       "Dairy                3835\n",
       "Meat                 3107\n",
       "Fruit                3080\n",
       "Jams and Jellies     2550\n",
       "Baking Goods         1947\n",
       "Breakfast Foods      1946\n",
       "Bread                1797\n",
       "Canned Soup          1722\n",
       "Beer and Wine        1590\n",
       "Paper Products       1568\n",
       "Bathroom Products    1552\n",
       "Electrical           1544\n",
       "Candy                1538\n",
       "Frozen Desserts      1446\n",
       "Specialty            1174\n",
       "Starchy Foods        1103\n",
       "Magazines             971\n",
       "Kitchen Products      969\n",
       "Name: food_category, dtype: int64"
      ]
     },
     "execution_count": 11,
     "metadata": {},
     "output_type": "execute_result"
    }
   ],
   "source": [
    "df.food_category.value_counts().sort_values(ascending=False).head(20)"
   ]
  },
  {
   "cell_type": "code",
   "execution_count": 12,
   "id": "9dcadf47",
   "metadata": {},
   "outputs": [
    {
     "data": {
      "text/plain": [
       "array(['Daily Paper, Radio', 'In-Store Coupon', 'Radio', 'Daily Paper',\n",
       "       'Product Attachment', 'Sunday Paper, Radio',\n",
       "       'Sunday Paper, Radio, TV', 'Sunday Paper', 'Street Handout', 'TV',\n",
       "       'Bulk Mail', 'Cash Register Handout', 'Daily Paper, Radio, TV'],\n",
       "      dtype=object)"
      ]
     },
     "execution_count": 12,
     "metadata": {},
     "output_type": "execute_result"
    }
   ],
   "source": [
    "df['media_type'].unique()"
   ]
  },
  {
   "cell_type": "code",
   "execution_count": 13,
   "id": "8fbeebb0",
   "metadata": {},
   "outputs": [
    {
     "data": {
      "text/plain": [
       "array(['Breakfast Foods', 'Bread', 'Canned Shrimp', 'Baking Goods',\n",
       "       'Vegetables', 'Frozen Desserts', 'Candy', 'Snack Foods', 'Dairy',\n",
       "       'Starchy Foods', 'Cleaning Supplies', 'Decongestants', 'Meat',\n",
       "       'Hot Beverages', 'Jams and Jellies', 'Carbonated Beverages',\n",
       "       'Seafood', 'Specialty', 'Kitchen Products', 'Electrical',\n",
       "       'Beer and Wine', 'Candles', 'Fruit', 'Pure Juice Beverages',\n",
       "       'Canned Soup', 'Paper Products', 'Canned Tuna', 'Eggs', 'Hardware',\n",
       "       'Canned Sardines', 'Canned Clams', 'Pain Relievers', 'Side Dishes',\n",
       "       'Bathroom Products', 'Magazines', 'Frozen Entrees', 'Pizza',\n",
       "       'Cold Remedies', 'Canned Anchovies', 'Drinks', 'Hygiene',\n",
       "       'Plastic Products', 'Canned Oysters', 'Packaged Vegetables',\n",
       "       'Miscellaneous'], dtype=object)"
      ]
     },
     "execution_count": 13,
     "metadata": {},
     "output_type": "execute_result"
    }
   ],
   "source": [
    "df['food_category'].unique()"
   ]
  },
  {
   "cell_type": "code",
   "execution_count": 14,
   "id": "7cc9af0a",
   "metadata": {},
   "outputs": [
    {
     "data": {
      "text/plain": [
       "Index(['food_category', 'food_department', 'food_family',\n",
       "       'store_sales(in millions)', 'store_cost(in millions)',\n",
       "       'unit_sales(in millions)', 'promotion_name', 'sales_country',\n",
       "       'marital_status', 'gender', 'total_children', 'education',\n",
       "       'member_card', 'occupation', 'houseowner', 'avg_cars_at home(approx)',\n",
       "       'avg. yearly_income', 'num_children_at_home',\n",
       "       'avg_cars_at home(approx).1', 'brand_name', 'SRP', 'gross_weight',\n",
       "       'net_weight', 'recyclable_package', 'low_fat', 'units_per_case',\n",
       "       'store_type', 'store_city', 'store_state', 'store_sqft', 'grocery_sqft',\n",
       "       'frozen_sqft', 'meat_sqft', 'coffee_bar', 'video_store', 'salad_bar',\n",
       "       'prepared_food', 'florist', 'media_type', 'cost'],\n",
       "      dtype='object')"
      ]
     },
     "execution_count": 14,
     "metadata": {},
     "output_type": "execute_result"
    }
   ],
   "source": [
    "df.columns"
   ]
  },
  {
   "cell_type": "code",
   "execution_count": 15,
   "id": "cb72b6ed",
   "metadata": {},
   "outputs": [],
   "source": [
    "#warnings :)\n",
    "import warnings\n",
    "warnings.filterwarnings('ignore')"
   ]
  },
  {
   "cell_type": "code",
   "execution_count": 16,
   "id": "3eee95dd",
   "metadata": {},
   "outputs": [
    {
     "data": {
      "text/plain": [
       "<AxesSubplot:xlabel='unit_sales(in millions)'>"
      ]
     },
     "execution_count": 16,
     "metadata": {},
     "output_type": "execute_result"
    },
    {
     "data": {
      "image/png": "[encoded data removed]",
      "text/plain": [
       "<Figure size 1008x432 with 3 Axes>"
      ]
     },
     "metadata": {
      "needs_background": "light"
     },
     "output_type": "display_data"
    }
   ],
   "source": [
    "#Checking the is there outliers using boxplot\n",
    "plt.figure(figsize=(14,6))\n",
    "plt.subplot(231)\n",
    "sns.boxplot(df['store_sales(in millions)'],color='g')\n",
    "plt.subplot(232)\n",
    "sns.boxplot(df['store_cost(in millions)'],color='g')\n",
    "plt.subplot(233)\n",
    "sns.boxplot(df['unit_sales(in millions)'],color='g')\n"
   ]
  },
  {
   "cell_type": "code",
   "execution_count": 17,
   "id": "e352e7ff",
   "metadata": {},
   "outputs": [
    {
     "data": {
      "text/plain": [
       "(60428, 40)"
      ]
     },
     "execution_count": 17,
     "metadata": {},
     "output_type": "execute_result"
    }
   ],
   "source": [
    "df.shape"
   ]
  },
  {
   "cell_type": "code",
   "execution_count": 18,
   "id": "9b4171e7",
   "metadata": {},
   "outputs": [
    {
     "name": "stdout",
     "output_type": "stream",
     "text": [
      "(59384, 40)\n"
     ]
    }
   ],
   "source": [
    "# Removing outliers\n",
    "df = df[df['store_sales(in millions)']<16]\n",
    "df = df[df['store_cost(in millions)']<6.5]\n",
    "print(df.shape)"
   ]
  },
  {
   "cell_type": "code",
   "execution_count": 19,
   "id": "99f28aef",
   "metadata": {},
   "outputs": [],
   "source": [
    "#df.drop_duplicates(subset=[df.columns], inplace=True)"
   ]
  },
  {
   "cell_type": "markdown",
   "id": "66555a66",
   "metadata": {},
   "source": [
    "# Exploratory Analysis"
   ]
  },
  {
   "cell_type": "markdown",
   "id": "bb26849a",
   "metadata": {},
   "source": [
    "#univariate analysis"
   ]
  },
  {
   "cell_type": "code",
   "execution_count": 20,
   "id": "9b0b3356",
   "metadata": {},
   "outputs": [
    {
     "data": {
      "image/png": "[encoded data removed]",
      "text/plain": [
       "<Figure size 1080x360 with 2 Axes>"
      ]
     },
     "metadata": {
      "needs_background": "light"
     },
     "output_type": "display_data"
    }
   ],
   "source": [
    "#plotting the using distplot\n",
    "plt.figure(figsize=(15,5))\n",
    "plt.subplot(121)\n",
    "sns.distplot(df['store_sales(in millions)'], color='r')\n",
    "plt.subplot(122)\n",
    "sns.distplot(df['cost'])\n",
    "plt.show()"
   ]
  },
  {
   "cell_type": "code",
   "execution_count": 21,
   "id": "21474539",
   "metadata": {},
   "outputs": [
    {
     "data": {
      "image/png": "[encoded data removed]",
      "text/plain": [
       "<Figure size 1440x288 with 2 Axes>"
      ]
     },
     "metadata": {
      "needs_background": "light"
     },
     "output_type": "display_data"
    }
   ],
   "source": [
    "#plotting the count plot\n",
    "plt.figure(figsize=(20,4))\n",
    "plt.subplot(1,4,1)\n",
    "sns.countplot(df['gender'])\n",
    "plt.subplot(1,4,2)\n",
    "sns.countplot(df['food_family'])\n",
    "plt.show()"
   ]
  },
  {
   "cell_type": "markdown",
   "id": "2250c17f",
   "metadata": {},
   "source": [
    "#Bivariate analysis"
   ]
  },
  {
   "cell_type": "code",
   "execution_count": 22,
   "id": "2dd64b26",
   "metadata": {},
   "outputs": [
    {
     "data": {
      "image/png": "[encoded data removed]",
      "text/plain": [
       "<Figure size 1008x288 with 2 Axes>"
      ]
     },
     "metadata": {
      "needs_background": "light"
     },
     "output_type": "display_data"
    }
   ],
   "source": [
    "plt.figure(figsize=(14,4))\n",
    "plt.subplot(131)\n",
    "sns.countplot(df['marital_status'], hue=df['gender'])\n",
    "plt.subplot(132)\n",
    "sns.countplot(df['cost'], hue=df['food_family'])\n",
    "plt.show()"
   ]
  },
  {
   "cell_type": "markdown",
   "id": "6ec541cd",
   "metadata": {},
   "source": [
    "#visualising two colunms againist each other\n",
    "plt.figure(figsize=(20,20))\n",
    "plt.subplot(131)\n",
    "sns.countplot(df['cost'], hue=df['food_category'])\n",
    "plt.subplot(132)\n",
    "sns.countplot(df['cost'], hue=df['media_type'])\n",
    "plt.show()"
   ]
  },
  {
   "cell_type": "raw",
   "id": "084ff571",
   "metadata": {},
   "source": [
    "# Multivariate analysis"
   ]
  },
  {
   "cell_type": "code",
   "execution_count": 23,
   "id": "763be3cd",
   "metadata": {},
   "outputs": [
    {
     "data": {
      "text/plain": [
       "<AxesSubplot:>"
      ]
     },
     "execution_count": 23,
     "metadata": {},
     "output_type": "execute_result"
    },
    {
     "data": {
      "image/png": "[encoded data removed]",
      "text/plain": [
       "<Figure size 1440x720 with 2 Axes>"
      ]
     },
     "metadata": {
      "needs_background": "light"
     },
     "output_type": "display_data"
    }
   ],
   "source": [
    "#df.corr()\n",
    "corr=df.corr()\n",
    "plt.figure(figsize=(20,10))\n",
    "sns.heatmap(corr, annot=True, cmap=plt.cm.CMRmap_r)\n"
   ]
  },
  {
   "cell_type": "code",
   "execution_count": null,
   "id": "bc04d126",
   "metadata": {},
   "outputs": [],
   "source": []
  },
  {
   "cell_type": "markdown",
   "id": "f5a04137",
   "metadata": {},
   "source": [
    "# Feature Engineering"
   ]
  },
  {
   "cell_type": "code",
   "execution_count": 24,
   "id": "78f91b74",
   "metadata": {},
   "outputs": [],
   "source": [
    "df.drop(['avg. yearly_income'],axis=1,inplace=True)"
   ]
  },
  {
   "cell_type": "code",
   "execution_count": 25,
   "id": "9446302a",
   "metadata": {},
   "outputs": [],
   "source": [
    "from sklearn.preprocessing import LabelEncoder\n",
    "def encoder(data,variable):\n",
    "    lb=LabelEncoder()\n",
    "    df[variable]=lb.fit_transform(df[variable])   "
   ]
  },
  {
   "cell_type": "markdown",
   "id": "8667b61d",
   "metadata": {},
   "source": [
    "loop through the column names and data types\n",
    "for col_name, col_type in df.dtypes.iteritems():\n",
    "    if col_type == 'object':\n",
    "        print(col_name) "
   ]
  },
  {
   "cell_type": "markdown",
   "id": "af17b86e",
   "metadata": {},
   "source": [
    "for col in df.info:\n",
    "    if col_type == 'object':\n",
    "         print(col)\n",
    "        \n",
    "                \n",
    "   "
   ]
  },
  {
   "cell_type": "code",
   "execution_count": 26,
   "id": "efb649c9",
   "metadata": {},
   "outputs": [],
   "source": [
    "from sklearn.preprocessing import LabelEncoder\n",
    "def encoder(data,variable):\n",
    "    lb=LabelEncoder()\n",
    "    df[variable]=lb.fit_transform(df[variable])   "
   ]
  },
  {
   "cell_type": "code",
   "execution_count": 27,
   "id": "2a26ea73",
   "metadata": {},
   "outputs": [],
   "source": [
    "# encoding categorical feature\n",
    "encoder(df,'food_category')\n",
    "encoder(df,'food_department')\n",
    "encoder(df,'food_family')\n",
    "encoder(df,'promotion_name')\n",
    "encoder(df,'sales_country')\n",
    "encoder(df,'marital_status')\n",
    "encoder(df,'gender')\n",
    "encoder(df,'education')\n",
    "encoder(df,'media_type')\n",
    "encoder(df,'member_card')\n",
    "encoder(df,'occupation')\n",
    "encoder(df,'houseowner')\n",
    "encoder(df,'brand_name')\n",
    "encoder(df,'store_type')\n",
    "encoder(df,'store_city')\n",
    "encoder(df,'store_state')\n",
    "encoder(df,'media_type')\n"
   ]
  },
  {
   "cell_type": "code",
   "execution_count": 28,
   "id": "05e1dbcd",
   "metadata": {},
   "outputs": [],
   "source": [
    "X = df.drop(\"cost\",axis=1) \n",
    "Y = df[\"cost\"] \n"
   ]
  },
  {
   "cell_type": "code",
   "execution_count": 29,
   "id": "53d74cbb",
   "metadata": {},
   "outputs": [
    {
     "data": {
      "text/html": [
       "<div>\n",
       "<style scoped>\n",
       "    .dataframe tbody tr th:only-of-type {\n",
       "        vertical-align: middle;\n",
       "    }\n",
       "\n",
       "    .dataframe tbody tr th {\n",
       "        vertical-align: top;\n",
       "    }\n",
       "\n",
       "    .dataframe thead th {\n",
       "        text-align: right;\n",
       "    }\n",
       "</style>\n",
       "<table border=\"1\" class=\"dataframe\">\n",
       "  <thead>\n",
       "    <tr style=\"text-align: right;\">\n",
       "      <th></th>\n",
       "      <th>food_category</th>\n",
       "      <th>food_department</th>\n",
       "      <th>food_family</th>\n",
       "      <th>store_sales(in millions)</th>\n",
       "      <th>store_cost(in millions)</th>\n",
       "      <th>unit_sales(in millions)</th>\n",
       "      <th>promotion_name</th>\n",
       "      <th>sales_country</th>\n",
       "      <th>marital_status</th>\n",
       "      <th>gender</th>\n",
       "      <th>...</th>\n",
       "      <th>store_sqft</th>\n",
       "      <th>grocery_sqft</th>\n",
       "      <th>frozen_sqft</th>\n",
       "      <th>meat_sqft</th>\n",
       "      <th>coffee_bar</th>\n",
       "      <th>video_store</th>\n",
       "      <th>salad_bar</th>\n",
       "      <th>prepared_food</th>\n",
       "      <th>florist</th>\n",
       "      <th>media_type</th>\n",
       "    </tr>\n",
       "  </thead>\n",
       "  <tbody>\n",
       "    <tr>\n",
       "      <th>0</th>\n",
       "      <td>4</td>\n",
       "      <td>12</td>\n",
       "      <td>1</td>\n",
       "      <td>7.36</td>\n",
       "      <td>2.7232</td>\n",
       "      <td>4</td>\n",
       "      <td>0</td>\n",
       "      <td>2</td>\n",
       "      <td>0</td>\n",
       "      <td>0</td>\n",
       "      <td>...</td>\n",
       "      <td>27694</td>\n",
       "      <td>18670</td>\n",
       "      <td>5415</td>\n",
       "      <td>3610</td>\n",
       "      <td>1</td>\n",
       "      <td>1</td>\n",
       "      <td>1</td>\n",
       "      <td>1</td>\n",
       "      <td>1</td>\n",
       "      <td>3</td>\n",
       "    </tr>\n",
       "    <tr>\n",
       "      <th>1</th>\n",
       "      <td>4</td>\n",
       "      <td>12</td>\n",
       "      <td>1</td>\n",
       "      <td>5.52</td>\n",
       "      <td>2.5944</td>\n",
       "      <td>3</td>\n",
       "      <td>6</td>\n",
       "      <td>2</td>\n",
       "      <td>0</td>\n",
       "      <td>1</td>\n",
       "      <td>...</td>\n",
       "      <td>27694</td>\n",
       "      <td>18670</td>\n",
       "      <td>5415</td>\n",
       "      <td>3610</td>\n",
       "      <td>1</td>\n",
       "      <td>1</td>\n",
       "      <td>1</td>\n",
       "      <td>1</td>\n",
       "      <td>1</td>\n",
       "      <td>3</td>\n",
       "    </tr>\n",
       "    <tr>\n",
       "      <th>2</th>\n",
       "      <td>4</td>\n",
       "      <td>12</td>\n",
       "      <td>1</td>\n",
       "      <td>3.68</td>\n",
       "      <td>1.3616</td>\n",
       "      <td>2</td>\n",
       "      <td>18</td>\n",
       "      <td>2</td>\n",
       "      <td>1</td>\n",
       "      <td>0</td>\n",
       "      <td>...</td>\n",
       "      <td>27694</td>\n",
       "      <td>18670</td>\n",
       "      <td>5415</td>\n",
       "      <td>3610</td>\n",
       "      <td>1</td>\n",
       "      <td>1</td>\n",
       "      <td>1</td>\n",
       "      <td>1</td>\n",
       "      <td>1</td>\n",
       "      <td>3</td>\n",
       "    </tr>\n",
       "    <tr>\n",
       "      <th>3</th>\n",
       "      <td>4</td>\n",
       "      <td>12</td>\n",
       "      <td>1</td>\n",
       "      <td>3.68</td>\n",
       "      <td>1.1776</td>\n",
       "      <td>2</td>\n",
       "      <td>6</td>\n",
       "      <td>2</td>\n",
       "      <td>0</td>\n",
       "      <td>0</td>\n",
       "      <td>...</td>\n",
       "      <td>27694</td>\n",
       "      <td>18670</td>\n",
       "      <td>5415</td>\n",
       "      <td>3610</td>\n",
       "      <td>1</td>\n",
       "      <td>1</td>\n",
       "      <td>1</td>\n",
       "      <td>1</td>\n",
       "      <td>1</td>\n",
       "      <td>5</td>\n",
       "    </tr>\n",
       "    <tr>\n",
       "      <th>4</th>\n",
       "      <td>4</td>\n",
       "      <td>12</td>\n",
       "      <td>1</td>\n",
       "      <td>4.08</td>\n",
       "      <td>1.4280</td>\n",
       "      <td>3</td>\n",
       "      <td>11</td>\n",
       "      <td>2</td>\n",
       "      <td>0</td>\n",
       "      <td>1</td>\n",
       "      <td>...</td>\n",
       "      <td>27694</td>\n",
       "      <td>18670</td>\n",
       "      <td>5415</td>\n",
       "      <td>3610</td>\n",
       "      <td>1</td>\n",
       "      <td>1</td>\n",
       "      <td>1</td>\n",
       "      <td>1</td>\n",
       "      <td>1</td>\n",
       "      <td>7</td>\n",
       "    </tr>\n",
       "    <tr>\n",
       "      <th>...</th>\n",
       "      <td>...</td>\n",
       "      <td>...</td>\n",
       "      <td>...</td>\n",
       "      <td>...</td>\n",
       "      <td>...</td>\n",
       "      <td>...</td>\n",
       "      <td>...</td>\n",
       "      <td>...</td>\n",
       "      <td>...</td>\n",
       "      <td>...</td>\n",
       "      <td>...</td>\n",
       "      <td>...</td>\n",
       "      <td>...</td>\n",
       "      <td>...</td>\n",
       "      <td>...</td>\n",
       "      <td>...</td>\n",
       "      <td>...</td>\n",
       "      <td>...</td>\n",
       "      <td>...</td>\n",
       "      <td>...</td>\n",
       "      <td>...</td>\n",
       "    </tr>\n",
       "    <tr>\n",
       "      <th>60423</th>\n",
       "      <td>42</td>\n",
       "      <td>7</td>\n",
       "      <td>2</td>\n",
       "      <td>2.76</td>\n",
       "      <td>1.3248</td>\n",
       "      <td>1</td>\n",
       "      <td>48</td>\n",
       "      <td>2</td>\n",
       "      <td>0</td>\n",
       "      <td>0</td>\n",
       "      <td>...</td>\n",
       "      <td>22478</td>\n",
       "      <td>15321</td>\n",
       "      <td>4294</td>\n",
       "      <td>2863</td>\n",
       "      <td>1</td>\n",
       "      <td>0</td>\n",
       "      <td>0</td>\n",
       "      <td>0</td>\n",
       "      <td>0</td>\n",
       "      <td>5</td>\n",
       "    </tr>\n",
       "    <tr>\n",
       "      <th>60424</th>\n",
       "      <td>42</td>\n",
       "      <td>7</td>\n",
       "      <td>2</td>\n",
       "      <td>1.60</td>\n",
       "      <td>0.4960</td>\n",
       "      <td>1</td>\n",
       "      <td>24</td>\n",
       "      <td>2</td>\n",
       "      <td>1</td>\n",
       "      <td>0</td>\n",
       "      <td>...</td>\n",
       "      <td>22478</td>\n",
       "      <td>15321</td>\n",
       "      <td>4294</td>\n",
       "      <td>2863</td>\n",
       "      <td>1</td>\n",
       "      <td>0</td>\n",
       "      <td>0</td>\n",
       "      <td>0</td>\n",
       "      <td>0</td>\n",
       "      <td>9</td>\n",
       "    </tr>\n",
       "    <tr>\n",
       "      <th>60425</th>\n",
       "      <td>42</td>\n",
       "      <td>7</td>\n",
       "      <td>2</td>\n",
       "      <td>5.52</td>\n",
       "      <td>2.5392</td>\n",
       "      <td>2</td>\n",
       "      <td>47</td>\n",
       "      <td>2</td>\n",
       "      <td>0</td>\n",
       "      <td>1</td>\n",
       "      <td>...</td>\n",
       "      <td>22478</td>\n",
       "      <td>15321</td>\n",
       "      <td>4294</td>\n",
       "      <td>2863</td>\n",
       "      <td>1</td>\n",
       "      <td>0</td>\n",
       "      <td>0</td>\n",
       "      <td>0</td>\n",
       "      <td>0</td>\n",
       "      <td>11</td>\n",
       "    </tr>\n",
       "    <tr>\n",
       "      <th>60426</th>\n",
       "      <td>42</td>\n",
       "      <td>7</td>\n",
       "      <td>2</td>\n",
       "      <td>8.28</td>\n",
       "      <td>2.5668</td>\n",
       "      <td>3</td>\n",
       "      <td>31</td>\n",
       "      <td>0</td>\n",
       "      <td>1</td>\n",
       "      <td>1</td>\n",
       "      <td>...</td>\n",
       "      <td>34452</td>\n",
       "      <td>27463</td>\n",
       "      <td>4193</td>\n",
       "      <td>2795</td>\n",
       "      <td>1</td>\n",
       "      <td>0</td>\n",
       "      <td>0</td>\n",
       "      <td>0</td>\n",
       "      <td>1</td>\n",
       "      <td>9</td>\n",
       "    </tr>\n",
       "    <tr>\n",
       "      <th>60427</th>\n",
       "      <td>42</td>\n",
       "      <td>7</td>\n",
       "      <td>2</td>\n",
       "      <td>9.20</td>\n",
       "      <td>4.2320</td>\n",
       "      <td>4</td>\n",
       "      <td>38</td>\n",
       "      <td>0</td>\n",
       "      <td>1</td>\n",
       "      <td>0</td>\n",
       "      <td>...</td>\n",
       "      <td>34452</td>\n",
       "      <td>27463</td>\n",
       "      <td>4193</td>\n",
       "      <td>2795</td>\n",
       "      <td>1</td>\n",
       "      <td>0</td>\n",
       "      <td>0</td>\n",
       "      <td>0</td>\n",
       "      <td>1</td>\n",
       "      <td>3</td>\n",
       "    </tr>\n",
       "  </tbody>\n",
       "</table>\n",
       "<p>59384 rows × 38 columns</p>\n",
       "</div>"
      ],
      "text/plain": [
       "       food_category  food_department  food_family  store_sales(in millions)  \\\n",
       "0                  4               12            1                      7.36   \n",
       "1                  4               12            1                      5.52   \n",
       "2                  4               12            1                      3.68   \n",
       "3                  4               12            1                      3.68   \n",
       "4                  4               12            1                      4.08   \n",
       "...              ...              ...          ...                       ...   \n",
       "60423             42                7            2                      2.76   \n",
       "60424             42                7            2                      1.60   \n",
       "60425             42                7            2                      5.52   \n",
       "60426             42                7            2                      8.28   \n",
       "60427             42                7            2                      9.20   \n",
       "\n",
       "       store_cost(in millions)  unit_sales(in millions)  promotion_name  \\\n",
       "0                       2.7232                        4               0   \n",
       "1                       2.5944                        3               6   \n",
       "2                       1.3616                        2              18   \n",
       "3                       1.1776                        2               6   \n",
       "4                       1.4280                        3              11   \n",
       "...                        ...                      ...             ...   \n",
       "60423                   1.3248                        1              48   \n",
       "60424                   0.4960                        1              24   \n",
       "60425                   2.5392                        2              47   \n",
       "60426                   2.5668                        3              31   \n",
       "60427                   4.2320                        4              38   \n",
       "\n",
       "       sales_country  marital_status  gender  ...  store_sqft  grocery_sqft  \\\n",
       "0                  2               0       0  ...       27694         18670   \n",
       "1                  2               0       1  ...       27694         18670   \n",
       "2                  2               1       0  ...       27694         18670   \n",
       "3                  2               0       0  ...       27694         18670   \n",
       "4                  2               0       1  ...       27694         18670   \n",
       "...              ...             ...     ...  ...         ...           ...   \n",
       "60423              2               0       0  ...       22478         15321   \n",
       "60424              2               1       0  ...       22478         15321   \n",
       "60425              2               0       1  ...       22478         15321   \n",
       "60426              0               1       1  ...       34452         27463   \n",
       "60427              0               1       0  ...       34452         27463   \n",
       "\n",
       "       frozen_sqft  meat_sqft  coffee_bar  video_store  salad_bar  \\\n",
       "0             5415       3610           1            1          1   \n",
       "1             5415       3610           1            1          1   \n",
       "2             5415       3610           1            1          1   \n",
       "3             5415       3610           1            1          1   \n",
       "4             5415       3610           1            1          1   \n",
       "...            ...        ...         ...          ...        ...   \n",
       "60423         4294       2863           1            0          0   \n",
       "60424         4294       2863           1            0          0   \n",
       "60425         4294       2863           1            0          0   \n",
       "60426         4193       2795           1            0          0   \n",
       "60427         4193       2795           1            0          0   \n",
       "\n",
       "       prepared_food  florist  media_type  \n",
       "0                  1        1           3  \n",
       "1                  1        1           3  \n",
       "2                  1        1           3  \n",
       "3                  1        1           5  \n",
       "4                  1        1           7  \n",
       "...              ...      ...         ...  \n",
       "60423              0        0           5  \n",
       "60424              0        0           9  \n",
       "60425              0        0          11  \n",
       "60426              0        1           9  \n",
       "60427              0        1           3  \n",
       "\n",
       "[59384 rows x 38 columns]"
      ]
     },
     "execution_count": 29,
     "metadata": {},
     "output_type": "execute_result"
    }
   ],
   "source": [
    "X"
   ]
  },
  {
   "cell_type": "code",
   "execution_count": 30,
   "id": "7bb863db",
   "metadata": {},
   "outputs": [],
   "source": [
    "# saving the dataframe\n",
    "#X.to_csv('afterencoding.csv')"
   ]
  },
  {
   "cell_type": "code",
   "execution_count": 31,
   "id": "b87ad4b7",
   "metadata": {},
   "outputs": [],
   "source": [
    "# Data Normalization\n",
    "from sklearn.preprocessing import StandardScaler\n",
    "st=StandardScaler()"
   ]
  },
  {
   "cell_type": "code",
   "execution_count": 32,
   "id": "0497bd5d",
   "metadata": {
    "scrolled": true
   },
   "outputs": [
    {
     "data": {
      "text/html": [
       "<style>#sk-container-id-1 {color: black;background-color: white;}#sk-container-id-1 pre{padding: 0;}#sk-container-id-1 div.sk-toggleable {background-color: white;}#sk-container-id-1 label.sk-toggleable__label {cursor: pointer;display: block;width: 100%;margin-bottom: 0;padding: 0.3em;box-sizing: border-box;text-align: center;}#sk-container-id-1 label.sk-toggleable__label-arrow:before {content: \"▸\";float: left;margin-right: 0.25em;color: #696969;}#sk-container-id-1 label.sk-toggleable__label-arrow:hover:before {color: black;}#sk-container-id-1 div.sk-estimator:hover label.sk-toggleable__label-arrow:before {color: black;}#sk-container-id-1 div.sk-toggleable__content {max-height: 0;max-width: 0;overflow: hidden;text-align: left;background-color: #f0f8ff;}#sk-container-id-1 div.sk-toggleable__content pre {margin: 0.2em;color: black;border-radius: 0.25em;background-color: #f0f8ff;}#sk-container-id-1 input.sk-toggleable__control:checked~div.sk-toggleable__content {max-height: 200px;max-width: 100%;overflow: auto;}#sk-container-id-1 input.sk-toggleable__control:checked~label.sk-toggleable__label-arrow:before {content: \"▾\";}#sk-container-id-1 div.sk-estimator input.sk-toggleable__control:checked~label.sk-toggleable__label {background-color: #d4ebff;}#sk-container-id-1 div.sk-label input.sk-toggleable__control:checked~label.sk-toggleable__label {background-color: #d4ebff;}#sk-container-id-1 input.sk-hidden--visually {border: 0;clip: rect(1px 1px 1px 1px);clip: rect(1px, 1px, 1px, 1px);height: 1px;margin: -1px;overflow: hidden;padding: 0;position: absolute;width: 1px;}#sk-container-id-1 div.sk-estimator {font-family: monospace;background-color: #f0f8ff;border: 1px dotted black;border-radius: 0.25em;box-sizing: border-box;margin-bottom: 0.5em;}#sk-container-id-1 div.sk-estimator:hover {background-color: #d4ebff;}#sk-container-id-1 div.sk-parallel-item::after {content: \"\";width: 100%;border-bottom: 1px solid gray;flex-grow: 1;}#sk-container-id-1 div.sk-label:hover label.sk-toggleable__label {background-color: #d4ebff;}#sk-container-id-1 div.sk-serial::before {content: \"\";position: absolute;border-left: 1px solid gray;box-sizing: border-box;top: 0;bottom: 0;left: 50%;z-index: 0;}#sk-container-id-1 div.sk-serial {display: flex;flex-direction: column;align-items: center;background-color: white;padding-right: 0.2em;padding-left: 0.2em;position: relative;}#sk-container-id-1 div.sk-item {position: relative;z-index: 1;}#sk-container-id-1 div.sk-parallel {display: flex;align-items: stretch;justify-content: center;background-color: white;position: relative;}#sk-container-id-1 div.sk-item::before, #sk-container-id-1 div.sk-parallel-item::before {content: \"\";position: absolute;border-left: 1px solid gray;box-sizing: border-box;top: 0;bottom: 0;left: 50%;z-index: -1;}#sk-container-id-1 div.sk-parallel-item {display: flex;flex-direction: column;z-index: 1;position: relative;background-color: white;}#sk-container-id-1 div.sk-parallel-item:first-child::after {align-self: flex-end;width: 50%;}#sk-container-id-1 div.sk-parallel-item:last-child::after {align-self: flex-start;width: 50%;}#sk-container-id-1 div.sk-parallel-item:only-child::after {width: 0;}#sk-container-id-1 div.sk-dashed-wrapped {border: 1px dashed gray;margin: 0 0.4em 0.5em 0.4em;box-sizing: border-box;padding-bottom: 0.4em;background-color: white;}#sk-container-id-1 div.sk-label label {font-family: monospace;font-weight: bold;display: inline-block;line-height: 1.2em;}#sk-container-id-1 div.sk-label-container {text-align: center;}#sk-container-id-1 div.sk-container {/* jupyter's `normalize.less` sets `[hidden] { display: none; }` but bootstrap.min.css set `[hidden] { display: none !important; }` so we also need the `!important` here to be able to override the default hidden behavior on the sphinx rendered scikit-learn.org. See: https://github.com/scikit-learn/scikit-learn/issues/21755 */display: inline-block !important;position: relative;}#sk-container-id-1 div.sk-text-repr-fallback {display: none;}</style><div id=\"sk-container-id-1\" class=\"sk-top-container\"><div class=\"sk-text-repr-fallback\"><pre>StandardScaler()</pre><b>In a Jupyter environment, please rerun this cell to show the HTML representation or trust the notebook. <br />On GitHub, the HTML representation is unable to render, please try loading this page with nbviewer.org.</b></div><div class=\"sk-container\" hidden><div class=\"sk-item\"><div class=\"sk-estimator sk-toggleable\"><input class=\"sk-toggleable__control sk-hidden--visually\" id=\"sk-estimator-id-1\" type=\"checkbox\" checked><label for=\"sk-estimator-id-1\" class=\"sk-toggleable__label sk-toggleable__label-arrow\">StandardScaler</label><div class=\"sk-toggleable__content\"><pre>StandardScaler()</pre></div></div></div></div></div>"
      ],
      "text/plain": [
       "StandardScaler()"
      ]
     },
     "execution_count": 32,
     "metadata": {},
     "output_type": "execute_result"
    }
   ],
   "source": [
    "st.fit(X)"
   ]
  },
  {
   "cell_type": "code",
   "execution_count": 33,
   "id": "7945a283",
   "metadata": {},
   "outputs": [],
   "source": [
    "scaled_data=st.transform(X)"
   ]
  },
  {
   "cell_type": "code",
   "execution_count": 34,
   "id": "a555253e",
   "metadata": {},
   "outputs": [
    {
     "data": {
      "text/plain": [
       "array([[-1.50271845,  0.09136775, -0.18940145, ...,  0.83793349,\n",
       "         0.88178133, -0.79814462],\n",
       "       [-1.50271845,  0.09136775, -0.18940145, ...,  0.83793349,\n",
       "         0.88178133, -0.79814462],\n",
       "       [-1.50271845,  0.09136775, -0.18940145, ...,  0.83793349,\n",
       "         0.88178133, -0.79814462],\n",
       "       ...,\n",
       "       [ 1.13474198, -0.72702537,  1.72082537, ..., -1.19341214,\n",
       "        -1.13406801,  1.49346232],\n",
       "       [ 1.13474198, -0.72702537,  1.72082537, ..., -1.19341214,\n",
       "         0.88178133,  0.92056059],\n",
       "       [ 1.13474198, -0.72702537,  1.72082537, ..., -1.19341214,\n",
       "         0.88178133, -0.79814462]])"
      ]
     },
     "execution_count": 34,
     "metadata": {},
     "output_type": "execute_result"
    }
   ],
   "source": [
    "scaled_data"
   ]
  },
  {
   "cell_type": "markdown",
   "id": "f2a8b627",
   "metadata": {},
   "source": [
    "# Applying PCA Algorithms"
   ]
  },
  {
   "cell_type": "code",
   "execution_count": 35,
   "id": "686d5459",
   "metadata": {},
   "outputs": [],
   "source": [
    "#Applying PCA Algorithms\n",
    "from sklearn.decomposition import PCA"
   ]
  },
  {
   "cell_type": "code",
   "execution_count": 36,
   "id": "8f537699",
   "metadata": {},
   "outputs": [],
   "source": [
    "pca=PCA(n_components=8)"
   ]
  },
  {
   "cell_type": "code",
   "execution_count": 37,
   "id": "bbff8a2c",
   "metadata": {},
   "outputs": [],
   "source": [
    "data_pca=pca.fit_transform(X)"
   ]
  },
  {
   "cell_type": "code",
   "execution_count": 38,
   "id": "4126eaa3",
   "metadata": {
    "scrolled": false
   },
   "outputs": [
    {
     "data": {
      "text/plain": [
       "array([[-4.60150945e+02, -3.13342126e+02, -3.34192770e+01, ...,\n",
       "         2.05261144e+00,  9.39293791e+00, -3.63616103e+00],\n",
       "       [-4.60151780e+02, -3.13340580e+02, -3.34299451e+01, ...,\n",
       "         2.00259302e+00,  9.36611071e+00, -3.66261046e+00],\n",
       "       [-4.60153323e+02, -3.13337085e+02, -3.34526417e+01, ...,\n",
       "         1.90511733e+00,  9.33192036e+00, -3.76913022e+00],\n",
       "       ...,\n",
       "       [-6.80180104e+03, -1.69527700e+02, -5.26506976e+01, ...,\n",
       "        -7.38932869e+00,  7.23523991e+00,  1.05199357e+00],\n",
       "       [ 9.54338234e+03,  4.69407730e+03, -5.22864959e+01, ...,\n",
       "        -7.12821969e+00,  7.35350104e+00, -1.98895159e+00],\n",
       "       [ 9.54338382e+03,  4.69406455e+03,  3.06816650e+01, ...,\n",
       "        -9.92312720e+00,  9.71299201e+00, -1.71126508e+00]])"
      ]
     },
     "execution_count": 38,
     "metadata": {},
     "output_type": "execute_result"
    }
   ],
   "source": [
    "data_pca"
   ]
  },
  {
   "cell_type": "code",
   "execution_count": 39,
   "id": "5d13c345",
   "metadata": {},
   "outputs": [
    {
     "data": {
      "text/plain": [
       "(59384, 8)"
      ]
     },
     "execution_count": 39,
     "metadata": {},
     "output_type": "execute_result"
    }
   ],
   "source": [
    "data_pca.shape"
   ]
  },
  {
   "cell_type": "code",
   "execution_count": 40,
   "id": "3e1abcad",
   "metadata": {},
   "outputs": [
    {
     "data": {
      "text/plain": [
       "array([4.82898968e+07, 3.63173407e+06, 9.58031834e+02, 2.20160600e+02,\n",
       "       1.91974974e+02, 1.05290487e+02, 4.34425225e+01, 2.45460483e+01])"
      ]
     },
     "execution_count": 40,
     "metadata": {},
     "output_type": "execute_result"
    }
   ],
   "source": [
    "pca.explained_variance_"
   ]
  },
  {
   "cell_type": "code",
   "execution_count": 41,
   "id": "3cd552e8",
   "metadata": {},
   "outputs": [
    {
     "data": {
      "text/plain": [
       "array([[-1.87908884e-05, -6.50810265e-06, -5.26628697e-08,\n",
       "         6.07002244e-06,  2.83696363e-06,  3.55088086e-06,\n",
       "        -1.30049844e-04, -1.00375472e-05, -1.35904582e-06,\n",
       "        -1.62411077e-06,  8.35237533e-07,  3.31933709e-06,\n",
       "        -3.39226709e-06,  1.51982742e-06, -2.30747410e-07,\n",
       "        -2.75216530e-06,  1.89985128e-06, -2.75216530e-06,\n",
       "         3.29522025e-05, -1.00361876e-07, -3.23314657e-06,\n",
       "        -2.65822873e-06,  2.45239658e-08,  5.65938811e-08,\n",
       "         4.12448215e-06, -4.46768252e-05, -3.08505844e-05,\n",
       "         1.71161478e-04,  8.16171686e-01,  5.43263314e-01,\n",
       "         1.63747985e-01,  1.09157191e-01, -1.22417617e-05,\n",
       "        -5.99154730e-06,  2.74939706e-05,  2.74939706e-05,\n",
       "        -3.15008068e-06,  6.40455428e-05],\n",
       "       [ 1.62110538e-05,  1.63261296e-05,  6.25791080e-07,\n",
       "        -1.78102781e-05, -6.64807672e-06, -5.31326333e-06,\n",
       "         2.71043068e-04, -9.74483972e-05, -3.06347223e-06,\n",
       "        -1.04270999e-05,  3.51257901e-05,  2.38097487e-06,\n",
       "        -1.24281389e-05,  8.84871013e-07, -7.25597491e-06,\n",
       "        -3.27155568e-06,  3.14403501e-05, -3.27155568e-06,\n",
       "        -1.78360428e-04, -2.16860482e-06,  1.12752395e-06,\n",
       "         2.44560500e-06,  1.37212693e-07, -2.60219132e-06,\n",
       "         1.57357600e-05,  1.03901144e-04,  3.51611215e-04,\n",
       "         2.22188320e-04, -2.81003331e-01,  6.70793469e-01,\n",
       "        -5.71108023e-01, -3.80668572e-01, -5.50944045e-05,\n",
       "        -1.72696713e-05, -4.75116645e-05, -4.75116645e-05,\n",
       "        -6.83478174e-05, -1.06384072e-05],\n",
       "       [ 1.66424872e-02,  2.58927429e-03, -8.11980026e-04,\n",
       "        -2.82966770e-03, -1.23021932e-03,  1.72852891e-04,\n",
       "        -2.45866874e-03,  4.19442495e-05, -5.84058755e-05,\n",
       "         1.03007564e-05, -1.67868173e-04,  2.24074490e-04,\n",
       "         2.83063810e-04,  4.70969584e-05,  4.55657367e-05,\n",
       "        -7.94562443e-05,  1.49397575e-04, -7.94562443e-05,\n",
       "         9.99842338e-01, -1.04606083e-03, -1.95619836e-03,\n",
       "        -1.63163150e-03,  2.42448331e-04, -4.87155600e-04,\n",
       "         2.60193495e-03, -1.05872751e-04,  5.20852888e-04,\n",
       "        -3.74680715e-04, -9.05250204e-05,  1.15412674e-04,\n",
       "        -1.08878169e-04, -3.53947752e-05, -4.36184542e-05,\n",
       "         6.58439890e-05, -2.10891751e-05, -2.10891751e-05,\n",
       "         2.00982096e-05,  2.26430395e-04],\n",
       "       [-9.65727193e-01, -2.53946803e-01, -3.26283883e-03,\n",
       "        -1.52359651e-02, -5.87719276e-03, -1.38676991e-04,\n",
       "        -4.27725349e-02, -1.23734243e-04, -1.22854132e-04,\n",
       "         3.58977658e-06, -1.00227883e-04,  6.15988194e-05,\n",
       "        -3.77343071e-04, -2.62338063e-04,  3.72055037e-06,\n",
       "         6.96817054e-04,  3.90909410e-05,  6.96817054e-04,\n",
       "         1.65484841e-02, -4.71120455e-03, -1.24480182e-02,\n",
       "        -1.39327591e-02, -6.72087671e-04, -2.04069311e-03,\n",
       "        -1.08844282e-02, -8.17554217e-04,  1.51641376e-03,\n",
       "        -1.03105372e-04, -6.82807323e-05,  4.62531740e-05,\n",
       "        -5.27998789e-05,  1.22196591e-04,  1.13871089e-04,\n",
       "         1.73915883e-04,  9.94405371e-05,  9.94405371e-05,\n",
       "         1.43765749e-04,  1.62944022e-03],\n",
       "       [ 4.14864813e-02,  9.99637185e-03,  1.25263095e-04,\n",
       "        -1.75462882e-03, -5.48892693e-04, -5.17203077e-05,\n",
       "        -9.98476654e-01, -5.19213994e-05,  3.88906300e-04,\n",
       "         5.13011978e-04,  1.03028411e-03,  1.68856550e-03,\n",
       "        -2.36430226e-04,  8.00123367e-04, -4.45877059e-04,\n",
       "         8.44823755e-04, -2.51391573e-04,  8.44823755e-04,\n",
       "        -3.20509092e-03, -4.90161268e-04,  2.33156052e-03,\n",
       "         2.47713948e-03, -9.74791595e-05, -2.09387000e-05,\n",
       "         7.43411936e-03, -2.43311665e-02,  1.75608467e-02,\n",
       "        -8.45999811e-03, -1.43884377e-03,  1.36879686e-03,\n",
       "         8.66125992e-04,  1.46974004e-03,  3.96680112e-03,\n",
       "         7.44709276e-03,  3.65711554e-03,  3.65711554e-03,\n",
       "         5.07269610e-03,  5.77499838e-03],\n",
       "       [ 2.83178131e-03,  3.17060299e-02,  3.16413153e-03,\n",
       "         4.86148647e-03,  1.90751315e-03,  1.05299461e-04,\n",
       "        -6.98444588e-03, -2.13015846e-04, -2.59942963e-04,\n",
       "        -2.76101545e-04, -2.56991461e-04,  7.24347177e-04,\n",
       "        -2.31262523e-04,  7.98670611e-05,  1.48486265e-05,\n",
       "         7.13742314e-04, -1.29576541e-04,  7.13742314e-04,\n",
       "         2.51892660e-03,  1.40843811e-03,  1.18541832e-02,\n",
       "         1.31372176e-02, -4.83023970e-05, -1.48394866e-03,\n",
       "        -9.99286530e-01, -6.02456230e-05, -8.60020966e-04,\n",
       "         7.55110190e-04,  8.56387246e-06,  2.80922214e-06,\n",
       "        -2.48625504e-05, -1.04880879e-05, -8.59774664e-05,\n",
       "        -4.69161849e-05, -6.89106575e-05, -6.89106575e-05,\n",
       "         2.97861382e-05, -4.58402527e-04],\n",
       "       [-5.71369629e-02,  1.41546579e-01,  8.52490139e-03,\n",
       "         2.54336065e-02,  1.00747542e-02,  1.05134193e-03,\n",
       "         2.57815409e-03, -2.78851266e-04, -1.24238424e-04,\n",
       "         5.41922208e-05,  3.72459621e-04, -7.09896484e-04,\n",
       "        -2.19200123e-04, -2.16795101e-04, -2.64384403e-04,\n",
       "         6.71780647e-04, -3.00277842e-04,  6.71780647e-04,\n",
       "         3.13360537e-03,  7.54982264e-03,  6.93860193e-01,\n",
       "         7.02712210e-01,  3.89758060e-03, -3.24475635e-03,\n",
       "         2.19724410e-02, -8.73311425e-04,  3.50401728e-03,\n",
       "        -1.69050658e-03,  1.23319103e-05, -7.86392421e-06,\n",
       "        -9.00398738e-05,  1.24299759e-04,  9.82767449e-05,\n",
       "         1.63511312e-04,  3.62107949e-04,  3.62107949e-04,\n",
       "         2.94933816e-04, -5.58474527e-03],\n",
       "       [ 1.13147589e-01, -4.35561363e-01, -1.85204672e-02,\n",
       "        -3.44176903e-02, -1.36060853e-02, -8.60632974e-03,\n",
       "        -1.63650712e-02, -1.35843203e-03,  2.90039185e-03,\n",
       "        -6.17991903e-04, -7.54566891e-03,  3.46508400e-03,\n",
       "         1.05517487e-03, -4.57330270e-03, -5.94216620e-04,\n",
       "        -1.64109833e-03, -9.20100779e-03, -1.64109833e-03,\n",
       "        -2.36088232e-04, -5.44800501e-03,  5.02631925e-02,\n",
       "         5.34787993e-02,  1.83470094e-03,  2.80140965e-03,\n",
       "        -1.15665891e-02,  4.50517133e-02, -8.84756855e-01,\n",
       "        -3.68017205e-03, -1.08491417e-03,  1.17615091e-03,\n",
       "         1.91915601e-02, -2.67484820e-02, -1.72002931e-02,\n",
       "         9.89793417e-03,  6.81174876e-03,  6.81174876e-03,\n",
       "        -2.33849578e-03, -5.70952847e-02]])"
      ]
     },
     "execution_count": 41,
     "metadata": {},
     "output_type": "execute_result"
    }
   ],
   "source": [
    "pca.components_"
   ]
  },
  {
   "cell_type": "code",
   "execution_count": 42,
   "id": "c725035f",
   "metadata": {},
   "outputs": [
    {
     "data": {
      "text/plain": [
       "(8, 38)"
      ]
     },
     "execution_count": 42,
     "metadata": {},
     "output_type": "execute_result"
    }
   ],
   "source": [
    "pca.components_.shape"
   ]
  },
  {
   "cell_type": "code",
   "execution_count": 43,
   "id": "17a4947b",
   "metadata": {},
   "outputs": [],
   "source": [
    "# number of components\n",
    "n_pcs = pca.components_.shape[0]"
   ]
  },
  {
   "cell_type": "code",
   "execution_count": 44,
   "id": "ceef0a58",
   "metadata": {},
   "outputs": [],
   "source": [
    "most_important = [np.abs(pca.components_[i]).argmax() for i in range(n_pcs)]"
   ]
  },
  {
   "cell_type": "code",
   "execution_count": 45,
   "id": "0f5a6899",
   "metadata": {},
   "outputs": [],
   "source": [
    "initial_feature_names = [X.columns][0]"
   ]
  },
  {
   "cell_type": "code",
   "execution_count": 46,
   "id": "0d101997",
   "metadata": {},
   "outputs": [
    {
     "data": {
      "text/plain": [
       "Index(['food_category', 'food_department', 'food_family',\n",
       "       'store_sales(in millions)', 'store_cost(in millions)',\n",
       "       'unit_sales(in millions)', 'promotion_name', 'sales_country',\n",
       "       'marital_status', 'gender', 'total_children', 'education',\n",
       "       'member_card', 'occupation', 'houseowner', 'avg_cars_at home(approx)',\n",
       "       'num_children_at_home', 'avg_cars_at home(approx).1', 'brand_name',\n",
       "       'SRP', 'gross_weight', 'net_weight', 'recyclable_package', 'low_fat',\n",
       "       'units_per_case', 'store_type', 'store_city', 'store_state',\n",
       "       'store_sqft', 'grocery_sqft', 'frozen_sqft', 'meat_sqft', 'coffee_bar',\n",
       "       'video_store', 'salad_bar', 'prepared_food', 'florist', 'media_type'],\n",
       "      dtype='object')"
      ]
     },
     "execution_count": 46,
     "metadata": {},
     "output_type": "execute_result"
    }
   ],
   "source": [
    "#to get columns names\n",
    "initial_feature_names"
   ]
  },
  {
   "cell_type": "code",
   "execution_count": 47,
   "id": "480672b0",
   "metadata": {},
   "outputs": [],
   "source": [
    "# get the index of the most important feature on EACH component i.e. largest absolute value\n",
    "# using LIST COMPREHENSION HERE\n",
    "most_important_names = [initial_feature_names[most_important[i]] for i in range(n_pcs)]"
   ]
  },
  {
   "cell_type": "code",
   "execution_count": 48,
   "id": "9f874473",
   "metadata": {},
   "outputs": [],
   "source": [
    "dic = {'PC{}'.format(i+1): most_important_names[i] for i in range(n_pcs)}"
   ]
  },
  {
   "cell_type": "code",
   "execution_count": 49,
   "id": "ffd0d091",
   "metadata": {},
   "outputs": [],
   "source": [
    "# build the dataframe\n",
    "df = pd.DataFrame(sorted(dic.items()))"
   ]
  },
  {
   "cell_type": "code",
   "execution_count": 50,
   "id": "78037663",
   "metadata": {},
   "outputs": [
    {
     "data": {
      "text/html": [
       "<div>\n",
       "<style scoped>\n",
       "    .dataframe tbody tr th:only-of-type {\n",
       "        vertical-align: middle;\n",
       "    }\n",
       "\n",
       "    .dataframe tbody tr th {\n",
       "        vertical-align: top;\n",
       "    }\n",
       "\n",
       "    .dataframe thead th {\n",
       "        text-align: right;\n",
       "    }\n",
       "</style>\n",
       "<table border=\"1\" class=\"dataframe\">\n",
       "  <thead>\n",
       "    <tr style=\"text-align: right;\">\n",
       "      <th></th>\n",
       "      <th>0</th>\n",
       "      <th>1</th>\n",
       "    </tr>\n",
       "  </thead>\n",
       "  <tbody>\n",
       "    <tr>\n",
       "      <th>0</th>\n",
       "      <td>PC1</td>\n",
       "      <td>store_sqft</td>\n",
       "    </tr>\n",
       "    <tr>\n",
       "      <th>1</th>\n",
       "      <td>PC2</td>\n",
       "      <td>grocery_sqft</td>\n",
       "    </tr>\n",
       "    <tr>\n",
       "      <th>2</th>\n",
       "      <td>PC3</td>\n",
       "      <td>brand_name</td>\n",
       "    </tr>\n",
       "    <tr>\n",
       "      <th>3</th>\n",
       "      <td>PC4</td>\n",
       "      <td>food_category</td>\n",
       "    </tr>\n",
       "    <tr>\n",
       "      <th>4</th>\n",
       "      <td>PC5</td>\n",
       "      <td>promotion_name</td>\n",
       "    </tr>\n",
       "    <tr>\n",
       "      <th>5</th>\n",
       "      <td>PC6</td>\n",
       "      <td>units_per_case</td>\n",
       "    </tr>\n",
       "    <tr>\n",
       "      <th>6</th>\n",
       "      <td>PC7</td>\n",
       "      <td>net_weight</td>\n",
       "    </tr>\n",
       "    <tr>\n",
       "      <th>7</th>\n",
       "      <td>PC8</td>\n",
       "      <td>store_city</td>\n",
       "    </tr>\n",
       "  </tbody>\n",
       "</table>\n",
       "</div>"
      ],
      "text/plain": [
       "     0               1\n",
       "0  PC1      store_sqft\n",
       "1  PC2    grocery_sqft\n",
       "2  PC3      brand_name\n",
       "3  PC4   food_category\n",
       "4  PC5  promotion_name\n",
       "5  PC6  units_per_case\n",
       "6  PC7      net_weight\n",
       "7  PC8      store_city"
      ]
     },
     "execution_count": 50,
     "metadata": {},
     "output_type": "execute_result"
    }
   ],
   "source": [
    "df"
   ]
  },
  {
   "cell_type": "code",
   "execution_count": 51,
   "id": "edf5b9b0",
   "metadata": {},
   "outputs": [],
   "source": [
    "pca=PCA()"
   ]
  },
  {
   "cell_type": "code",
   "execution_count": 52,
   "id": "f4a0893c",
   "metadata": {},
   "outputs": [],
   "source": [
    "#pca.get_feature_names_out(input_features=X.columns)"
   ]
  },
  {
   "cell_type": "markdown",
   "id": "64ac5c46",
   "metadata": {},
   "source": [
    "plt.figure(figsize=(8,6))\n",
    "plt.scatter(data_pca[:,0],data_pca[:,1],c=df['cost'],cmap='plasma')\n",
    "plt.xlabel('First principal component')\n",
    "plt.ylabel('Second Principal Component')"
   ]
  },
  {
   "cell_type": "code",
   "execution_count": 53,
   "id": "77d99cfb",
   "metadata": {},
   "outputs": [],
   "source": [
    "X1=data_pca\n"
   ]
  },
  {
   "cell_type": "code",
   "execution_count": 54,
   "id": "60a291f7",
   "metadata": {},
   "outputs": [
    {
     "data": {
      "text/plain": [
       "array([[-4.60150945e+02, -3.13342126e+02, -3.34192770e+01, ...,\n",
       "         2.05261144e+00,  9.39293791e+00, -3.63616103e+00],\n",
       "       [-4.60151780e+02, -3.13340580e+02, -3.34299451e+01, ...,\n",
       "         2.00259302e+00,  9.36611071e+00, -3.66261046e+00],\n",
       "       [-4.60153323e+02, -3.13337085e+02, -3.34526417e+01, ...,\n",
       "         1.90511733e+00,  9.33192036e+00, -3.76913022e+00],\n",
       "       ...,\n",
       "       [-6.80180104e+03, -1.69527700e+02, -5.26506976e+01, ...,\n",
       "        -7.38932869e+00,  7.23523991e+00,  1.05199357e+00],\n",
       "       [ 9.54338234e+03,  4.69407730e+03, -5.22864959e+01, ...,\n",
       "        -7.12821969e+00,  7.35350104e+00, -1.98895159e+00],\n",
       "       [ 9.54338382e+03,  4.69406455e+03,  3.06816650e+01, ...,\n",
       "        -9.92312720e+00,  9.71299201e+00, -1.71126508e+00]])"
      ]
     },
     "execution_count": 54,
     "metadata": {},
     "output_type": "execute_result"
    }
   ],
   "source": [
    "X1"
   ]
  },
  {
   "cell_type": "code",
   "execution_count": 55,
   "id": "22056bb3",
   "metadata": {},
   "outputs": [
    {
     "data": {
      "text/plain": [
       "0        126.62\n",
       "1         59.86\n",
       "2         84.16\n",
       "3         95.78\n",
       "4         50.79\n",
       "          ...  \n",
       "60423     95.25\n",
       "60424     69.42\n",
       "60425     67.51\n",
       "60426    132.88\n",
       "60427     87.76\n",
       "Name: cost, Length: 59384, dtype: float64"
      ]
     },
     "execution_count": 55,
     "metadata": {},
     "output_type": "execute_result"
    }
   ],
   "source": [
    "Y"
   ]
  },
  {
   "cell_type": "code",
   "execution_count": 56,
   "id": "254a90f5",
   "metadata": {},
   "outputs": [
    {
     "data": {
      "text/plain": [
       "((41568, 8), (17816, 8))"
      ]
     },
     "execution_count": 56,
     "metadata": {},
     "output_type": "execute_result"
    }
   ],
   "source": [
    "#separating dataset into train and test\n",
    "from sklearn.model_selection import train_test_split\n",
    "X1_train, X1_test, Y_train, Y_test = train_test_split(X1,Y,test_size=0.3,random_state=0)\n",
    "X1_train.shape, X1_test.shape"
   ]
  },
  {
   "cell_type": "code",
   "execution_count": 57,
   "id": "fcf881e6",
   "metadata": {
    "scrolled": false
   },
   "outputs": [
    {
     "data": {
      "text/plain": [
       "array([[ 9.50229732e+03, -2.74619774e+03, -3.12306312e+01, ...,\n",
       "         3.13779239e-01, -8.65838487e+00,  8.81300610e-01],\n",
       "       [ 3.10288363e+03, -1.00528953e+03, -5.12781164e+01, ...,\n",
       "         1.37707489e+01,  1.76916862e+00,  2.44466064e+00],\n",
       "       [-8.50466851e+03,  2.56768044e+03,  2.49090342e+01, ...,\n",
       "        -3.93693785e+00,  1.04646204e+00, -2.18230670e+00],\n",
       "       ...,\n",
       "       [-4.96321939e+03,  6.11839585e+02,  2.58145238e+01, ...,\n",
       "         1.17810061e+01, -2.57244346e+00,  2.16665238e+00],\n",
       "       [ 9.42319466e+03,  3.13782595e+03, -4.81559188e+01, ...,\n",
       "         9.03724070e-01, -1.93089447e+00, -6.20852454e+00],\n",
       "       [ 6.83119553e+03, -1.07045250e+03, -2.01855411e+01, ...,\n",
       "        -6.94456243e+00,  4.94819410e+00, -6.67578217e+00]])"
      ]
     },
     "execution_count": 57,
     "metadata": {},
     "output_type": "execute_result"
    }
   ],
   "source": [
    "X1_train"
   ]
  },
  {
   "cell_type": "code",
   "execution_count": 58,
   "id": "48b8f2eb",
   "metadata": {},
   "outputs": [
    {
     "data": {
      "text/plain": [
       "array([[-8.50466857e+03,  2.56768355e+03, -1.30600002e+01, ...,\n",
       "        -1.86174923e+00,  5.55405035e+00, -9.37693494e-01],\n",
       "       [-4.96321974e+03,  6.11840417e+02,  1.61970065e+01, ...,\n",
       "         6.58417826e+00, -3.89875895e+00,  9.39541975e+00],\n",
       "       [-4.60151010e+02, -3.13343832e+02, -1.54588377e+01, ...,\n",
       "        -3.50925340e-01,  6.32869310e+00,  9.31388889e-01],\n",
       "       ...,\n",
       "       [ 3.36759823e+03,  1.64520859e+03, -3.21139048e+01, ...,\n",
       "        -1.48074225e+01,  7.89031673e+00, -9.67077169e+00],\n",
       "       [-4.96322206e+03,  6.11852669e+02, -5.07299216e+01, ...,\n",
       "         5.75153759e+00,  1.32054302e+00,  6.60540937e+00],\n",
       "       [-6.17462559e+03, -2.33377992e+03, -4.45442241e+01, ...,\n",
       "         1.26215809e+00, -7.22873989e+00,  2.43330955e+00]])"
      ]
     },
     "execution_count": 58,
     "metadata": {},
     "output_type": "execute_result"
    }
   ],
   "source": [
    "X1_test"
   ]
  },
  {
   "cell_type": "code",
   "execution_count": 59,
   "id": "b1606ccc",
   "metadata": {},
   "outputs": [
    {
     "data": {
      "text/plain": [
       "822      137.17\n",
       "29371     65.70\n",
       "18459    108.22\n",
       "43682    139.37\n",
       "37153    135.92\n",
       "          ...  \n",
       "46704     89.90\n",
       "53344     80.29\n",
       "43339    147.18\n",
       "44317    144.31\n",
       "2776      69.65\n",
       "Name: cost, Length: 41568, dtype: float64"
      ]
     },
     "execution_count": 59,
     "metadata": {},
     "output_type": "execute_result"
    }
   ],
   "source": [
    "Y_train"
   ]
  },
  {
   "cell_type": "code",
   "execution_count": 60,
   "id": "889af9e9",
   "metadata": {},
   "outputs": [
    {
     "data": {
      "text/plain": [
       "9336     118.36\n",
       "15797     65.68\n",
       "40401     55.59\n",
       "10254    144.38\n",
       "40164     62.74\n",
       "          ...  \n",
       "5302     146.72\n",
       "32807     94.79\n",
       "7741      97.45\n",
       "21913     65.68\n",
       "32203    107.89\n",
       "Name: cost, Length: 17816, dtype: float64"
      ]
     },
     "execution_count": 60,
     "metadata": {},
     "output_type": "execute_result"
    }
   ],
   "source": [
    "Y_test"
   ]
  },
  {
   "cell_type": "markdown",
   "id": "2a747899",
   "metadata": {},
   "source": [
    "# MODEL BUILDING"
   ]
  },
  {
   "cell_type": "raw",
   "id": "32c90185",
   "metadata": {},
   "source": [
    "# Linear Regression model"
   ]
  },
  {
   "cell_type": "code",
   "execution_count": 61,
   "id": "55ea6158",
   "metadata": {
    "scrolled": true
   },
   "outputs": [
    {
     "name": "stdout",
     "output_type": "stream",
     "text": [
      "----****----Linear Regression model---****-----\n",
      "Model performance for Test set\n",
      "R2_Score :  0.005881340390355372\n",
      "RMSE :  30.124858391960863\n",
      "----------------------------------\n",
      "Model performance for Training set\n",
      "R2_Score :  0.0048312611221303925\n",
      "RMSE  :  29.844142792767677\n"
     ]
    }
   ],
   "source": [
    "from sklearn.linear_model import LinearRegression\n",
    "from sklearn.metrics import r2_score, mean_squared_error\n",
    "from sklearn.model_selection import cross_val_score\n",
    "lr=LinearRegression()\n",
    "lr.fit(X1_train,Y_train)\n",
    "ypred=lr.predict(X1_test) #test on Y\n",
    "xpred=lr.predict(X1_train)\n",
    "score=r2_score(Y_test,ypred)\n",
    "rmse=np.sqrt(mean_squared_error(Y_test,ypred))\n",
    "score1=r2_score(Y_train,xpred)\n",
    "rmse1=np.sqrt(mean_squared_error(Y_train,xpred))\n",
    "\n",
    "print('----****----Linear Regression model---****-----')\n",
    "print('Model performance for Test set')\n",
    "print(\"R2_Score : \",score)\n",
    "print(\"RMSE : \", rmse)\n",
    "\n",
    "print('----------------------------------')\n",
    "print('Model performance for Training set')\n",
    "print(\"R2_Score : \",score1)\n",
    "print(\"RMSE  : \", rmse1)\n"
   ]
  },
  {
   "cell_type": "raw",
   "id": "b595d339",
   "metadata": {},
   "source": [
    "# Random Forest Regressor model"
   ]
  },
  {
   "cell_type": "code",
   "execution_count": 62,
   "id": "c5895b64",
   "metadata": {},
   "outputs": [
    {
     "name": "stdout",
     "output_type": "stream",
     "text": [
      "----****----Random Forest Regressor model---****-----\n",
      "Model performance for Test set\n",
      "R2_Score :  0.8790563080595666\n",
      "RMSE :  10.507454357966921\n",
      "----------------------------------\n",
      "Model performance for Training set\n",
      "R2_Score :  0.9825734684136165\n",
      "RMSE  :  3.949264538499454\n"
     ]
    }
   ],
   "source": [
    "from sklearn.ensemble import RandomForestRegressor\n",
    "rf=RandomForestRegressor()\n",
    "rf.fit(X1_train,Y_train)\n",
    "ypred=(rf.predict(X1_test))\n",
    "xpred=(rf.predict(X1_train))\n",
    "score=r2_score(Y_test,ypred)\n",
    "rmse=np.sqrt(mean_squared_error(Y_test,ypred))\n",
    "score1=r2_score(Y_train,xpred)\n",
    "rmse1=np.sqrt(mean_squared_error(Y_train,xpred))\n",
    "\n",
    "print('----****----Random Forest Regressor model---****-----')\n",
    "print('Model performance for Test set')\n",
    "print(\"R2_Score : \",score)\n",
    "print(\"RMSE : \", rmse)\n",
    "\n",
    "print('----------------------------------')\n",
    "print('Model performance for Training set')\n",
    "print(\"R2_Score : \",score1)\n",
    "print(\"RMSE  : \", rmse1)\n"
   ]
  },
  {
   "cell_type": "code",
   "execution_count": 63,
   "id": "72dcc433",
   "metadata": {
    "scrolled": true
   },
   "outputs": [
    {
     "name": "stdout",
     "output_type": "stream",
     "text": [
      "Model performance for Test set\n",
      "R2_Score :  0.2939617434764339\n",
      "RMSE :  25.38750478252106\n",
      "----------------------------------\n",
      "Model performance for Training set\n",
      "R2_Score :  0.9825734684136165\n",
      "RMSE  :  3.949264538499454\n"
     ]
    }
   ],
   "source": [
    "from sklearn.ensemble import GradientBoostingRegressor\n",
    "gb=GradientBoostingRegressor()\n",
    "gb.fit(X1_train,Y_train)\n",
    "ypred=(gb.predict(X1_test))\n",
    "xpred=(rf.predict(X1_train))\n",
    "score=r2_score(Y_test,ypred)\n",
    "rmse=np.sqrt(mean_squared_error(Y_test,ypred))\n",
    "score1=r2_score(Y_train,xpred)\n",
    "rmse1=np.sqrt(mean_squared_error(Y_train,xpred))\n",
    "print('Model performance for Test set')\n",
    "print(\"R2_Score : \",score)\n",
    "print(\"RMSE : \", rmse)\n",
    "\n",
    "print('----------------------------------')\n",
    "print('Model performance for Training set')\n",
    "print(\"R2_Score : \",score1)\n",
    "print(\"RMSE  : \", rmse1)\n"
   ]
  },
  {
   "cell_type": "code",
   "execution_count": 64,
   "id": "80fd4037",
   "metadata": {
    "scrolled": true
   },
   "outputs": [
    {
     "name": "stdout",
     "output_type": "stream",
     "text": [
      "----****----Random Forest Regressor model---****-----\n",
      "Model performance for Test set\n",
      "R2_Score :  0.7503272061756197\n",
      "RMSE :  15.097029783154767\n",
      "----------------------------------\n",
      "Model performance for Training set\n",
      "R2_Score :  1.0\n",
      "RMSE  :  1.2526949439074018e-13\n",
      "mean_absolute_error  :  4.451000224517353\n",
      "mean_squared_error  :  227.92030827346204\n"
     ]
    }
   ],
   "source": [
    "from sklearn.tree import DecisionTreeRegressor\n",
    "from sklearn.metrics import r2_score, mean_squared_error,mean_absolute_error\n",
    "Dtr=DecisionTreeRegressor()\n",
    "Dtr.fit(X1_train,Y_train)\n",
    "ypred=(Dtr.predict(X1_test))\n",
    "xpred=(Dtr.predict(X1_train))\n",
    "score=r2_score(Y_test,ypred)\n",
    "rmse=np.sqrt(mean_squared_error(Y_test,ypred))\n",
    "score1=r2_score(Y_train,xpred)\n",
    "rmse1=np.sqrt(mean_squared_error(Y_train,xpred))\n",
    "mae = mean_absolute_error(Y_test, ypred)\n",
    "mse = mean_squared_error(Y_test, ypred)\n",
    "\n",
    "print('----****----Random Forest Regressor model---****-----')\n",
    "print('Model performance for Test set')\n",
    "print(\"R2_Score : \",score)\n",
    "print(\"RMSE : \", rmse)\n",
    "\n",
    "print('----------------------------------')\n",
    "print('Model performance for Training set')\n",
    "print(\"R2_Score : \",score1)\n",
    "print(\"RMSE  : \", rmse1)\n",
    "print(\"mean_absolute_error  : \", mae)\n",
    "print(\"mean_squared_error  : \", mse)\n",
    "\n",
    "\n"
   ]
  },
  {
   "cell_type": "raw",
   "id": "27b439c1",
   "metadata": {},
   "source": [
    "#testing model with inputs"
   ]
  },
  {
   "cell_type": "raw",
   "id": "d1f58cda",
   "metadata": {},
   "source": [
    "0\tPC1\tstore_sqft\n",
    "1\tPC2\tgrocery_sqft\n",
    "2\tPC3\tbrand_name\n",
    "3\tPC4\tfood_category\n",
    "4\tPC5\tpromotion_name\n",
    "5\tPC6\tunits_per_case\n",
    "6\tPC7\tnet_weight\n",
    "7\tPC8\tstore_city"
   ]
  },
  {
   "cell_type": "code",
   "execution_count": 65,
   "id": "4ee09758",
   "metadata": {},
   "outputs": [
    {
     "name": "stdout",
     "output_type": "stream",
     "text": [
      "[141.2781]\n"
     ]
    }
   ],
   "source": [
    "#test with random forest regressor\n",
    "example = [['27694','18670','20','4','0','17','17.7','12']]\n",
    "result = rf.predict(example)\n",
    "print(result)"
   ]
  },
  {
   "cell_type": "code",
   "execution_count": 66,
   "id": "756972f8",
   "metadata": {},
   "outputs": [
    {
     "name": "stdout",
     "output_type": "stream",
     "text": [
      "[124.74164083]\n"
     ]
    }
   ],
   "source": [
    "#test with Gradient Boosting regressor\n",
    "example = [['27694','18670','20','4','0','17','17.7','12']]\n",
    "result = gb.predict(example)\n",
    "print(result)"
   ]
  },
  {
   "cell_type": "code",
   "execution_count": 67,
   "id": "12c1c30e",
   "metadata": {
    "scrolled": true
   },
   "outputs": [
    {
     "name": "stdout",
     "output_type": "stream",
     "text": [
      "[148.62]\n"
     ]
    }
   ],
   "source": [
    "#test with decision Tree regressor\n",
    "example = [['27694','18670','20','4','0','17','17.7','12']]\n",
    "result = Dtr.predict(example)\n",
    "print(result)"
   ]
  },
  {
   "cell_type": "markdown",
   "id": "aa7b61b9",
   "metadata": {},
   "source": [
    "# Saving the model "
   ]
  },
  {
   "cell_type": "code",
   "execution_count": 68,
   "id": "91541c27",
   "metadata": {},
   "outputs": [],
   "source": [
    "import pickle \n",
    "pickle.dump(rf,open('costcustomers.pkl','wb'))"
   ]
  },
  {
   "cell_type": "code",
   "execution_count": null,
   "id": "cac018f7",
   "metadata": {},
   "outputs": [],
   "source": []
  },
  {
   "cell_type": "code",
   "execution_count": null,
   "id": "0bbd13bf",
   "metadata": {},
   "outputs": [],
   "source": []
  },
  {
   "cell_type": "code",
   "execution_count": null,
   "id": "256ae06d",
   "metadata": {},
   "outputs": [],
   "source": []
  },
  {
   "cell_type": "code",
   "execution_count": null,
   "id": "a98bcf71",
   "metadata": {},
   "outputs": [],
   "source": []
  },
  {
   "cell_type": "code",
   "execution_count": null,
   "id": "ac8de7d4",
   "metadata": {},
   "outputs": [],
   "source": []
  },
  {
   "cell_type": "code",
   "execution_count": null,
   "id": "7de79e29",
   "metadata": {},
   "outputs": [],
   "source": []
  },
  {
   "cell_type": "code",
   "execution_count": null,
   "id": "9242ce19",
   "metadata": {},
   "outputs": [],
   "source": []
  },
  {
   "cell_type": "code",
   "execution_count": null,
   "id": "a55cb5be",
   "metadata": {},
   "outputs": [],
   "source": []
  },
  {
   "cell_type": "code",
   "execution_count": null,
   "id": "f1dc6c4a",
   "metadata": {},
   "outputs": [],
   "source": []
  },
  {
   "cell_type": "raw",
   "id": "977d2342",
   "metadata": {},
   "source": [
    "# Gaussian transformation\n",
    "import scipy.stats as stat\n",
    "def transform(data):\n",
    "    plt.figure(figsize=(16,6))\n",
    "    plt.subplot(121)\n",
    "    sns.distplot(data)\n",
    "    plt.subplot(122)\n",
    "    stat.probplot(data,plot=plt)"
   ]
  },
  {
   "cell_type": "markdown",
   "id": "7880e9a3",
   "metadata": {},
   "source": [
    "transform(Y)"
   ]
  },
  {
   "cell_type": "markdown",
   "id": "62b1423e",
   "metadata": {},
   "source": [
    "transform(np.sqrt(Y))"
   ]
  },
  {
   "cell_type": "markdown",
   "id": "0d6f39ee",
   "metadata": {},
   "source": [
    "transform(np.cbrt(Y))"
   ]
  },
  {
   "cell_type": "markdown",
   "id": "254e394f",
   "metadata": {},
   "source": [
    "transform(np.log(Y))"
   ]
  },
  {
   "cell_type": "markdown",
   "id": "85782ef8",
   "metadata": {},
   "source": [
    "boxcox,params=stat.boxcox(Y)\n",
    "transform(boxcox)"
   ]
  },
  {
   "cell_type": "code",
   "execution_count": null,
   "id": "65f822e4",
   "metadata": {},
   "outputs": [],
   "source": []
  }
 ],
 "metadata": {
  "kernelspec": {
   "display_name": "Python 3 (ipykernel)",
   "language": "python",
   "name": "python3"
  },
  "language_info": {
   "codemirror_mode": {
    "name": "ipython",
    "version": 3
   },
   "file_extension": ".py",
   "mimetype": "text/x-python",
   "name": "python",
   "nbconvert_exporter": "python",
   "pygments_lexer": "ipython3",
   "version": "3.9.12"
  },
  "require": {
   "paths": {
    "buttons.colvis": "https://cdn.datatables.net/buttons/1.5.6/js/buttons.colVis.min",
    "buttons.flash": "https://cdn.datatables.net/buttons/1.5.6/js/buttons.flash.min",
    "buttons.html5": "https://cdn.datatables.net/buttons/1.5.6/js/buttons.html5.min",
    "buttons.print": "https://cdn.datatables.net/buttons/1.5.6/js/buttons.print.min",
    "chartjs": "https://cdnjs.cloudflare.com/ajax/libs/Chart.js/2.8.0/Chart",
    "d3": "https://d3js.org/d3.v5.min",
    "d3-array": "https://d3js.org/d3-array.v2.min",
    "datatables.net": "https://cdn.datatables.net/1.10.18/js/jquery.dataTables",
    "datatables.net-buttons": "https://cdn.datatables.net/buttons/1.5.6/js/dataTables.buttons.min",
    "datatables.responsive": "https://cdn.datatables.net/responsive/2.2.2/js/dataTables.responsive.min",
    "datatables.scroller": "https://cdn.datatables.net/scroller/2.0.0/js/dataTables.scroller.min",
    "datatables.select": "https://cdn.datatables.net/select/1.3.0/js/dataTables.select.min",
    "jszip": "https://cdnjs.cloudflare.com/ajax/libs/jszip/2.5.0/jszip.min",
    "moment": "https://cdnjs.cloudflare.com/ajax/libs/moment.js/2.8.0/moment",
    "pdfmake": "https://cdnjs.cloudflare.com/ajax/libs/pdfmake/0.1.36/pdfmake.min",
    "vfsfonts": "https://cdnjs.cloudflare.com/ajax/libs/pdfmake/0.1.36/vfs_fonts"
   },
   "shim": {
    "buttons.colvis": {
     "deps": [
      "jszip",
      "datatables.net-buttons"
     ]
    },
    "buttons.flash": {
     "deps": [
      "jszip",
      "datatables.net-buttons"
     ]
    },
    "buttons.html5": {
     "deps": [
      "jszip",
      "datatables.net-buttons"
     ]
    },
    "buttons.print": {
     "deps": [
      "jszip",
      "datatables.net-buttons"
     ]
    },
    "chartjs": {
     "deps": [
      "moment"
     ]
    },
    "datatables.net": {
     "exports": "$.fn.dataTable"
    },
    "datatables.net-buttons": {
     "deps": [
      "datatables.net"
     ]
    },
    "pdfmake": {
     "deps": [
      "datatables.net"
     ]
    },
    "vfsfonts": {
     "deps": [
      "datatables.net"
     ]
    }
   }
  }
 },
 "nbformat": 4,
 "nbformat_minor": 5
}
